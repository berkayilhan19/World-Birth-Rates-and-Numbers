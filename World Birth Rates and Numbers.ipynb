{
 "cells": [
  {
   "cell_type": "markdown",
   "id": "50d65888",
   "metadata": {},
   "source": [
    "# Dünya Doğum Oranları ve Sayıları"
   ]
  },
  {
   "cell_type": "markdown",
   "id": "6dce5540",
   "metadata": {},
   "source": [
    "<img src=\"dünya.jpeg\" width500 >"
   ]
  },
  {
   "cell_type": "markdown",
   "id": "38c8c1fe",
   "metadata": {},
   "source": [
    "<img src=\"bebek doğum.jpeg\" width500 >"
   ]
  },
  {
   "cell_type": "code",
   "execution_count": 1,
   "id": "fcdb4a92",
   "metadata": {},
   "outputs": [],
   "source": [
    "#!pip install plotly"
   ]
  },
  {
   "cell_type": "code",
   "execution_count": 2,
   "id": "00791381",
   "metadata": {},
   "outputs": [
    {
     "data": {
      "text/html": [
       "        <script type=\"text/javascript\">\n",
       "        window.PlotlyConfig = {MathJaxConfig: 'local'};\n",
       "        if (window.MathJax) {MathJax.Hub.Config({SVG: {font: \"STIX-Web\"}});}\n",
       "        if (typeof require !== 'undefined') {\n",
       "        require.undef(\"plotly\");\n",
       "        requirejs.config({\n",
       "            paths: {\n",
       "                'plotly': ['https://cdn.plot.ly/plotly-2.9.0.min']\n",
       "            }\n",
       "        });\n",
       "        require(['plotly'], function(Plotly) {\n",
       "            window._Plotly = Plotly;\n",
       "        });\n",
       "        }\n",
       "        </script>\n",
       "        "
      ]
     },
     "metadata": {},
     "output_type": "display_data"
    }
   ],
   "source": [
    "import plotly.graph_objects as go\n",
    "from plotly.offline import init_notebook_mode, iplot,plot\n",
    "init_notebook_mode(connected=True)"
   ]
  },
  {
   "cell_type": "code",
   "execution_count": 3,
   "id": "c6c0989f",
   "metadata": {},
   "outputs": [],
   "source": [
    "import pandas as pd\n",
    "import seaborn as sns\n",
    "import matplotlib.pyplot as plt\n",
    "import seaborn as sns"
   ]
  },
  {
   "cell_type": "code",
   "execution_count": 4,
   "id": "964d5747",
   "metadata": {},
   "outputs": [],
   "source": [
    "df=pd.read_csv(\"data.csv\")"
   ]
  },
  {
   "cell_type": "code",
   "execution_count": 5,
   "id": "7914b344",
   "metadata": {},
   "outputs": [
    {
     "data": {
      "text/html": [
       "<div>\n",
       "<style scoped>\n",
       "    .dataframe tbody tr th:only-of-type {\n",
       "        vertical-align: middle;\n",
       "    }\n",
       "\n",
       "    .dataframe tbody tr th {\n",
       "        vertical-align: top;\n",
       "    }\n",
       "\n",
       "    .dataframe thead th {\n",
       "        text-align: right;\n",
       "    }\n",
       "</style>\n",
       "<table border=\"1\" class=\"dataframe\">\n",
       "  <thead>\n",
       "    <tr style=\"text-align: right;\">\n",
       "      <th></th>\n",
       "      <th>place</th>\n",
       "      <th>pop2023</th>\n",
       "      <th>growthRate</th>\n",
       "      <th>area</th>\n",
       "      <th>country</th>\n",
       "      <th>cca3</th>\n",
       "      <th>cca2</th>\n",
       "      <th>ccn3</th>\n",
       "      <th>region</th>\n",
       "      <th>subregion</th>\n",
       "      <th>landAreaKm</th>\n",
       "      <th>density</th>\n",
       "      <th>densityMi</th>\n",
       "      <th>Rank</th>\n",
       "      <th>birthRate</th>\n",
       "      <th>rank</th>\n",
       "    </tr>\n",
       "  </thead>\n",
       "  <tbody>\n",
       "    <tr>\n",
       "      <th>0</th>\n",
       "      <td>24</td>\n",
       "      <td>36684202.0</td>\n",
       "      <td>0.03077</td>\n",
       "      <td>1246700.0</td>\n",
       "      <td>Angola</td>\n",
       "      <td>AGO</td>\n",
       "      <td>AO</td>\n",
       "      <td>24</td>\n",
       "      <td>Africa</td>\n",
       "      <td>Middle Africa, Sub-Saharan Africa</td>\n",
       "      <td>1246700.0</td>\n",
       "      <td>29.4250</td>\n",
       "      <td>76.2109</td>\n",
       "      <td>42</td>\n",
       "      <td>43.7</td>\n",
       "      <td>1</td>\n",
       "    </tr>\n",
       "    <tr>\n",
       "      <th>1</th>\n",
       "      <td>562</td>\n",
       "      <td>27202843.0</td>\n",
       "      <td>0.03796</td>\n",
       "      <td>1267000.0</td>\n",
       "      <td>Niger</td>\n",
       "      <td>NER</td>\n",
       "      <td>NE</td>\n",
       "      <td>562</td>\n",
       "      <td>Africa</td>\n",
       "      <td>Western Africa, Sub-Saharan Africa</td>\n",
       "      <td>1266700.0</td>\n",
       "      <td>21.4754</td>\n",
       "      <td>55.6212</td>\n",
       "      <td>54</td>\n",
       "      <td>43.6</td>\n",
       "      <td>2</td>\n",
       "    </tr>\n",
       "    <tr>\n",
       "      <th>2</th>\n",
       "      <td>466</td>\n",
       "      <td>23293698.0</td>\n",
       "      <td>0.03099</td>\n",
       "      <td>1240192.0</td>\n",
       "      <td>Mali</td>\n",
       "      <td>MLI</td>\n",
       "      <td>ML</td>\n",
       "      <td>466</td>\n",
       "      <td>Africa</td>\n",
       "      <td>Western Africa, Sub-Saharan Africa</td>\n",
       "      <td>1220190.0</td>\n",
       "      <td>19.0902</td>\n",
       "      <td>49.4437</td>\n",
       "      <td>58</td>\n",
       "      <td>43.2</td>\n",
       "      <td>3</td>\n",
       "    </tr>\n",
       "    <tr>\n",
       "      <th>3</th>\n",
       "      <td>148</td>\n",
       "      <td>18278568.0</td>\n",
       "      <td>0.03133</td>\n",
       "      <td>1284000.0</td>\n",
       "      <td>Chad</td>\n",
       "      <td>TCD</td>\n",
       "      <td>TD</td>\n",
       "      <td>148</td>\n",
       "      <td>Africa</td>\n",
       "      <td>Middle Africa, Sub-Saharan Africa</td>\n",
       "      <td>1259200.0</td>\n",
       "      <td>14.5160</td>\n",
       "      <td>37.5965</td>\n",
       "      <td>67</td>\n",
       "      <td>43.0</td>\n",
       "      <td>4</td>\n",
       "    </tr>\n",
       "    <tr>\n",
       "      <th>4</th>\n",
       "      <td>800</td>\n",
       "      <td>48582334.0</td>\n",
       "      <td>0.02821</td>\n",
       "      <td>241550.0</td>\n",
       "      <td>Uganda</td>\n",
       "      <td>UGA</td>\n",
       "      <td>UG</td>\n",
       "      <td>800</td>\n",
       "      <td>Africa</td>\n",
       "      <td>Eastern Africa, Sub-Saharan Africa</td>\n",
       "      <td>200520.0</td>\n",
       "      <td>242.2817</td>\n",
       "      <td>627.5097</td>\n",
       "      <td>30</td>\n",
       "      <td>42.4</td>\n",
       "      <td>5</td>\n",
       "    </tr>\n",
       "  </tbody>\n",
       "</table>\n",
       "</div>"
      ],
      "text/plain": [
       "   place     pop2023  growthRate       area country cca3 cca2  ccn3  region  \\\n",
       "0     24  36684202.0     0.03077  1246700.0  Angola  AGO   AO    24  Africa   \n",
       "1    562  27202843.0     0.03796  1267000.0   Niger  NER   NE   562  Africa   \n",
       "2    466  23293698.0     0.03099  1240192.0    Mali  MLI   ML   466  Africa   \n",
       "3    148  18278568.0     0.03133  1284000.0    Chad  TCD   TD   148  Africa   \n",
       "4    800  48582334.0     0.02821   241550.0  Uganda  UGA   UG   800  Africa   \n",
       "\n",
       "                            subregion  landAreaKm   density  densityMi  Rank  \\\n",
       "0   Middle Africa, Sub-Saharan Africa   1246700.0   29.4250    76.2109    42   \n",
       "1  Western Africa, Sub-Saharan Africa   1266700.0   21.4754    55.6212    54   \n",
       "2  Western Africa, Sub-Saharan Africa   1220190.0   19.0902    49.4437    58   \n",
       "3   Middle Africa, Sub-Saharan Africa   1259200.0   14.5160    37.5965    67   \n",
       "4  Eastern Africa, Sub-Saharan Africa    200520.0  242.2817   627.5097    30   \n",
       "\n",
       "   birthRate  rank  \n",
       "0       43.7     1  \n",
       "1       43.6     2  \n",
       "2       43.2     3  \n",
       "3       43.0     4  \n",
       "4       42.4     5  "
      ]
     },
     "execution_count": 5,
     "metadata": {},
     "output_type": "execute_result"
    }
   ],
   "source": [
    "df.head()"
   ]
  },
  {
   "cell_type": "code",
   "execution_count": 6,
   "id": "d4ba3a82",
   "metadata": {},
   "outputs": [],
   "source": [
    "df=df.drop([\"place\",\"growthRate\",\"area\",\"cca3\",\"cca2\",\"ccn3\",\"region\",\"subregion\",\"landAreaKm\",\"density\",\"densityMi\",\"Rank\",\"rank\"],axis=1)"
   ]
  },
  {
   "cell_type": "code",
   "execution_count": 7,
   "id": "38e4407d",
   "metadata": {},
   "outputs": [
    {
     "data": {
      "text/html": [
       "<div>\n",
       "<style scoped>\n",
       "    .dataframe tbody tr th:only-of-type {\n",
       "        vertical-align: middle;\n",
       "    }\n",
       "\n",
       "    .dataframe tbody tr th {\n",
       "        vertical-align: top;\n",
       "    }\n",
       "\n",
       "    .dataframe thead th {\n",
       "        text-align: right;\n",
       "    }\n",
       "</style>\n",
       "<table border=\"1\" class=\"dataframe\">\n",
       "  <thead>\n",
       "    <tr style=\"text-align: right;\">\n",
       "      <th></th>\n",
       "      <th>pop2023</th>\n",
       "      <th>country</th>\n",
       "      <th>birthRate</th>\n",
       "    </tr>\n",
       "  </thead>\n",
       "  <tbody>\n",
       "    <tr>\n",
       "      <th>0</th>\n",
       "      <td>36684202.0</td>\n",
       "      <td>Angola</td>\n",
       "      <td>43.7</td>\n",
       "    </tr>\n",
       "    <tr>\n",
       "      <th>1</th>\n",
       "      <td>27202843.0</td>\n",
       "      <td>Niger</td>\n",
       "      <td>43.6</td>\n",
       "    </tr>\n",
       "    <tr>\n",
       "      <th>2</th>\n",
       "      <td>23293698.0</td>\n",
       "      <td>Mali</td>\n",
       "      <td>43.2</td>\n",
       "    </tr>\n",
       "    <tr>\n",
       "      <th>3</th>\n",
       "      <td>18278568.0</td>\n",
       "      <td>Chad</td>\n",
       "      <td>43.0</td>\n",
       "    </tr>\n",
       "    <tr>\n",
       "      <th>4</th>\n",
       "      <td>48582334.0</td>\n",
       "      <td>Uganda</td>\n",
       "      <td>42.4</td>\n",
       "    </tr>\n",
       "  </tbody>\n",
       "</table>\n",
       "</div>"
      ],
      "text/plain": [
       "      pop2023 country  birthRate\n",
       "0  36684202.0  Angola       43.7\n",
       "1  27202843.0   Niger       43.6\n",
       "2  23293698.0    Mali       43.2\n",
       "3  18278568.0    Chad       43.0\n",
       "4  48582334.0  Uganda       42.4"
      ]
     },
     "execution_count": 7,
     "metadata": {},
     "output_type": "execute_result"
    }
   ],
   "source": [
    "df.head()"
   ]
  },
  {
   "cell_type": "code",
   "execution_count": 8,
   "id": "b84985fc",
   "metadata": {},
   "outputs": [
    {
     "data": {
      "text/html": [
       "<div>\n",
       "<style scoped>\n",
       "    .dataframe tbody tr th:only-of-type {\n",
       "        vertical-align: middle;\n",
       "    }\n",
       "\n",
       "    .dataframe tbody tr th {\n",
       "        vertical-align: top;\n",
       "    }\n",
       "\n",
       "    .dataframe thead th {\n",
       "        text-align: right;\n",
       "    }\n",
       "</style>\n",
       "<table border=\"1\" class=\"dataframe\">\n",
       "  <thead>\n",
       "    <tr style=\"text-align: right;\">\n",
       "      <th></th>\n",
       "      <th>pop2023</th>\n",
       "      <th>country</th>\n",
       "      <th>birthRate</th>\n",
       "    </tr>\n",
       "  </thead>\n",
       "  <tbody>\n",
       "    <tr>\n",
       "      <th>203</th>\n",
       "      <td>23923276.0</td>\n",
       "      <td>Taiwan</td>\n",
       "      <td>8.2</td>\n",
       "    </tr>\n",
       "    <tr>\n",
       "      <th>204</th>\n",
       "      <td>10247605.0</td>\n",
       "      <td>Portugal</td>\n",
       "      <td>8.2</td>\n",
       "    </tr>\n",
       "    <tr>\n",
       "      <th>205</th>\n",
       "      <td>123294513.0</td>\n",
       "      <td>Japan</td>\n",
       "      <td>8.0</td>\n",
       "    </tr>\n",
       "    <tr>\n",
       "      <th>206</th>\n",
       "      <td>80088.0</td>\n",
       "      <td>Andorra</td>\n",
       "      <td>7.3</td>\n",
       "    </tr>\n",
       "    <tr>\n",
       "      <th>207</th>\n",
       "      <td>36297.0</td>\n",
       "      <td>Monaco</td>\n",
       "      <td>6.5</td>\n",
       "    </tr>\n",
       "  </tbody>\n",
       "</table>\n",
       "</div>"
      ],
      "text/plain": [
       "         pop2023   country  birthRate\n",
       "203   23923276.0    Taiwan        8.2\n",
       "204   10247605.0  Portugal        8.2\n",
       "205  123294513.0     Japan        8.0\n",
       "206      80088.0   Andorra        7.3\n",
       "207      36297.0    Monaco        6.5"
      ]
     },
     "execution_count": 8,
     "metadata": {},
     "output_type": "execute_result"
    }
   ],
   "source": [
    "df.tail()"
   ]
  },
  {
   "cell_type": "code",
   "execution_count": 9,
   "id": "64bcbc6c",
   "metadata": {},
   "outputs": [
    {
     "data": {
      "text/html": [
       "<div>\n",
       "<style scoped>\n",
       "    .dataframe tbody tr th:only-of-type {\n",
       "        vertical-align: middle;\n",
       "    }\n",
       "\n",
       "    .dataframe tbody tr th {\n",
       "        vertical-align: top;\n",
       "    }\n",
       "\n",
       "    .dataframe thead th {\n",
       "        text-align: right;\n",
       "    }\n",
       "</style>\n",
       "<table border=\"1\" class=\"dataframe\">\n",
       "  <thead>\n",
       "    <tr style=\"text-align: right;\">\n",
       "      <th></th>\n",
       "      <th>pop2023</th>\n",
       "      <th>country</th>\n",
       "      <th>birthRate</th>\n",
       "    </tr>\n",
       "  </thead>\n",
       "  <tbody>\n",
       "    <tr>\n",
       "      <th>57</th>\n",
       "      <td>10143543.0</td>\n",
       "      <td>Tajikistan</td>\n",
       "      <td>22.8</td>\n",
       "    </tr>\n",
       "    <tr>\n",
       "      <th>108</th>\n",
       "      <td>36947025.0</td>\n",
       "      <td>Saudi Arabia</td>\n",
       "      <td>15.6</td>\n",
       "    </tr>\n",
       "    <tr>\n",
       "      <th>198</th>\n",
       "      <td>58870762.0</td>\n",
       "      <td>Italy</td>\n",
       "      <td>8.5</td>\n",
       "    </tr>\n",
       "    <tr>\n",
       "      <th>0</th>\n",
       "      <td>36684202.0</td>\n",
       "      <td>Angola</td>\n",
       "      <td>43.7</td>\n",
       "    </tr>\n",
       "    <tr>\n",
       "      <th>34</th>\n",
       "      <td>28873034.0</td>\n",
       "      <td>Ivory Coast</td>\n",
       "      <td>30.1</td>\n",
       "    </tr>\n",
       "  </tbody>\n",
       "</table>\n",
       "</div>"
      ],
      "text/plain": [
       "        pop2023       country  birthRate\n",
       "57   10143543.0    Tajikistan       22.8\n",
       "108  36947025.0  Saudi Arabia       15.6\n",
       "198  58870762.0         Italy        8.5\n",
       "0    36684202.0        Angola       43.7\n",
       "34   28873034.0   Ivory Coast       30.1"
      ]
     },
     "execution_count": 9,
     "metadata": {},
     "output_type": "execute_result"
    }
   ],
   "source": [
    "df.sample(5)"
   ]
  },
  {
   "cell_type": "code",
   "execution_count": 10,
   "id": "929a7893",
   "metadata": {},
   "outputs": [
    {
     "name": "stdout",
     "output_type": "stream",
     "text": [
      "<class 'pandas.core.frame.DataFrame'>\n",
      "RangeIndex: 208 entries, 0 to 207\n",
      "Data columns (total 3 columns):\n",
      " #   Column     Non-Null Count  Dtype  \n",
      "---  ------     --------------  -----  \n",
      " 0   pop2023    208 non-null    float64\n",
      " 1   country    208 non-null    object \n",
      " 2   birthRate  208 non-null    float64\n",
      "dtypes: float64(2), object(1)\n",
      "memory usage: 5.0+ KB\n"
     ]
    }
   ],
   "source": [
    "df.info()"
   ]
  },
  {
   "cell_type": "code",
   "execution_count": 11,
   "id": "a72d5805",
   "metadata": {},
   "outputs": [
    {
     "data": {
      "text/plain": [
       "pop2023      0\n",
       "country      0\n",
       "birthRate    0\n",
       "dtype: int64"
      ]
     },
     "execution_count": 11,
     "metadata": {},
     "output_type": "execute_result"
    }
   ],
   "source": [
    "df.isnull().sum()"
   ]
  },
  {
   "cell_type": "code",
   "execution_count": 12,
   "id": "99260887",
   "metadata": {},
   "outputs": [
    {
     "data": {
      "text/html": [
       "<div>\n",
       "<style scoped>\n",
       "    .dataframe tbody tr th:only-of-type {\n",
       "        vertical-align: middle;\n",
       "    }\n",
       "\n",
       "    .dataframe tbody tr th {\n",
       "        vertical-align: top;\n",
       "    }\n",
       "\n",
       "    .dataframe thead th {\n",
       "        text-align: right;\n",
       "    }\n",
       "</style>\n",
       "<table border=\"1\" class=\"dataframe\">\n",
       "  <thead>\n",
       "    <tr style=\"text-align: right;\">\n",
       "      <th></th>\n",
       "      <th>pop2023</th>\n",
       "      <th>birthRate</th>\n",
       "    </tr>\n",
       "  </thead>\n",
       "  <tbody>\n",
       "    <tr>\n",
       "      <th>pop2023</th>\n",
       "      <td>1.000000</td>\n",
       "      <td>-0.011007</td>\n",
       "    </tr>\n",
       "    <tr>\n",
       "      <th>birthRate</th>\n",
       "      <td>-0.011007</td>\n",
       "      <td>1.000000</td>\n",
       "    </tr>\n",
       "  </tbody>\n",
       "</table>\n",
       "</div>"
      ],
      "text/plain": [
       "            pop2023  birthRate\n",
       "pop2023    1.000000  -0.011007\n",
       "birthRate -0.011007   1.000000"
      ]
     },
     "execution_count": 12,
     "metadata": {},
     "output_type": "execute_result"
    }
   ],
   "source": [
    "df.corr()"
   ]
  },
  {
   "cell_type": "code",
   "execution_count": 13,
   "id": "8f4442ea",
   "metadata": {},
   "outputs": [
    {
     "data": {
      "text/html": [
       "<div>\n",
       "<style scoped>\n",
       "    .dataframe tbody tr th:only-of-type {\n",
       "        vertical-align: middle;\n",
       "    }\n",
       "\n",
       "    .dataframe tbody tr th {\n",
       "        vertical-align: top;\n",
       "    }\n",
       "\n",
       "    .dataframe thead th {\n",
       "        text-align: right;\n",
       "    }\n",
       "</style>\n",
       "<table border=\"1\" class=\"dataframe\">\n",
       "  <thead>\n",
       "    <tr style=\"text-align: right;\">\n",
       "      <th></th>\n",
       "      <th>pop2023</th>\n",
       "      <th>birthRate</th>\n",
       "    </tr>\n",
       "  </thead>\n",
       "  <tbody>\n",
       "    <tr>\n",
       "      <th>count</th>\n",
       "      <td>2.080000e+02</td>\n",
       "      <td>208.000000</td>\n",
       "    </tr>\n",
       "    <tr>\n",
       "      <th>mean</th>\n",
       "      <td>3.857369e+07</td>\n",
       "      <td>18.966346</td>\n",
       "    </tr>\n",
       "    <tr>\n",
       "      <th>std</th>\n",
       "      <td>1.452106e+08</td>\n",
       "      <td>9.446121</td>\n",
       "    </tr>\n",
       "    <tr>\n",
       "      <th>min</th>\n",
       "      <td>3.791000e+03</td>\n",
       "      <td>6.500000</td>\n",
       "    </tr>\n",
       "    <tr>\n",
       "      <th>25%</th>\n",
       "      <td>8.425148e+05</td>\n",
       "      <td>11.600000</td>\n",
       "    </tr>\n",
       "    <tr>\n",
       "      <th>50%</th>\n",
       "      <td>7.320343e+06</td>\n",
       "      <td>16.300000</td>\n",
       "    </tr>\n",
       "    <tr>\n",
       "      <th>75%</th>\n",
       "      <td>2.869509e+07</td>\n",
       "      <td>23.325000</td>\n",
       "    </tr>\n",
       "    <tr>\n",
       "      <th>max</th>\n",
       "      <td>1.428628e+09</td>\n",
       "      <td>43.700000</td>\n",
       "    </tr>\n",
       "  </tbody>\n",
       "</table>\n",
       "</div>"
      ],
      "text/plain": [
       "            pop2023   birthRate\n",
       "count  2.080000e+02  208.000000\n",
       "mean   3.857369e+07   18.966346\n",
       "std    1.452106e+08    9.446121\n",
       "min    3.791000e+03    6.500000\n",
       "25%    8.425148e+05   11.600000\n",
       "50%    7.320343e+06   16.300000\n",
       "75%    2.869509e+07   23.325000\n",
       "max    1.428628e+09   43.700000"
      ]
     },
     "execution_count": 13,
     "metadata": {},
     "output_type": "execute_result"
    }
   ],
   "source": [
    "df.describe()"
   ]
  },
  {
   "cell_type": "code",
   "execution_count": 14,
   "id": "77e8e6a9",
   "metadata": {},
   "outputs": [
    {
     "data": {
      "text/plain": [
       "Index(['pop2023', 'country', 'birthRate'], dtype='object')"
      ]
     },
     "execution_count": 14,
     "metadata": {},
     "output_type": "execute_result"
    }
   ],
   "source": [
    "df.columns"
   ]
  },
  {
   "cell_type": "code",
   "execution_count": 15,
   "id": "a900a01b",
   "metadata": {},
   "outputs": [
    {
     "data": {
      "text/plain": [
       "(208, 3)"
      ]
     },
     "execution_count": 15,
     "metadata": {},
     "output_type": "execute_result"
    }
   ],
   "source": [
    "df.shape"
   ]
  },
  {
   "cell_type": "markdown",
   "id": "84a3e7da",
   "metadata": {},
   "source": [
    "Doğum oranı, 1.000 nüfus başına düşen doğum sayısıdır (Birth rate is the number of births per 1,000 population)"
   ]
  },
  {
   "cell_type": "code",
   "execution_count": 16,
   "id": "2e3f479c",
   "metadata": {},
   "outputs": [],
   "source": [
    "data=dict(\n",
    "    type=\"choropleth\",\n",
    "    colorscale=\"Viridis\",\n",
    "    reversescale=True,\n",
    "    locations=df[\"country\"],\n",
    "    locationmode=\"country names\",\n",
    "    z=df[\"birthRate\"],\n",
    "    text=df[\"country\"],\n",
    "    colorbar={\"title\":\"Dünya Doğurganlık Oranı\"}\n",
    ")\n",
    "layout=dict(title=\"Dünya Doğurganlık Oranı\",\n",
    "            geo=dict(showframe=False,projection={\"type\":\"mercator\"})\n",
    "            )\n"
   ]
  },
  {
   "cell_type": "code",
   "execution_count": 17,
   "id": "d96f1210",
   "metadata": {},
   "outputs": [
    {
     "data": {
      "application/vnd.plotly.v1+json": {
       "config": {
        "linkText": "Export to plot.ly",
        "plotlyServerURL": "https://plot.ly",
        "showLink": false
       },
       "data": [
        {
         "colorbar": {
          "title": {
           "text": "Dünya Doğurganlık Oranı"
          }
         },
         "colorscale": [
          [
           0,
           "#440154"
          ],
          [
           0.1111111111111111,
           "#482878"
          ],
          [
           0.2222222222222222,
           "#3e4989"
          ],
          [
           0.3333333333333333,
           "#31688e"
          ],
          [
           0.4444444444444444,
           "#26828e"
          ],
          [
           0.5555555555555556,
           "#1f9e89"
          ],
          [
           0.6666666666666666,
           "#35b779"
          ],
          [
           0.7777777777777778,
           "#6ece58"
          ],
          [
           0.8888888888888888,
           "#b5de2b"
          ],
          [
           1,
           "#fde725"
          ]
         ],
         "locationmode": "country names",
         "locations": [
          "Angola",
          "Niger",
          "Mali",
          "Chad",
          "Uganda",
          "Zambia",
          "Burundi",
          "Malawi",
          "Somalia",
          "Liberia",
          "Mozambique",
          "Afghanistan",
          "Guinea-Bissau",
          "Burkina Faso",
          "South Sudan",
          "Guinea",
          "Ethiopia",
          "Sierra Leone",
          "Tanzania",
          "Nigeria",
          "Cameroon",
          "Benin",
          "Sudan",
          "Zimbabwe",
          "Central African Republic",
          "Republic of the Congo",
          "Senegal",
          "Timor-Leste",
          "DR Congo",
          "Togo",
          "Equatorial Guinea",
          "Sao Tome and Principe",
          "Madagascar",
          "Ghana",
          "Ivory Coast",
          "Iraq",
          "Mauritania",
          "Rwanda",
          "Eritrea",
          "Egypt",
          "Yemen",
          "Namibia",
          "Comoros",
          "Guatemala",
          "Solomon Islands",
          "Lesotho",
          "Marshall Islands",
          "Oman",
          "Tuvalu",
          "Jordan",
          "Vanuatu",
          "Philippines",
          "Papua New Guinea",
          "Djibouti",
          "Laos",
          "Nauru",
          "Belize",
          "Tajikistan",
          "Kenya",
          "Haiti",
          "Cambodia",
          "Honduras",
          "Tonga",
          "Botswana",
          "Pakistan",
          "Bolivia",
          "Kyrgyzstan",
          "Algeria",
          "Kiribati",
          "Syria",
          "Samoa",
          "South Africa",
          "Cape Verde",
          "Micronesia",
          "Guam",
          "Nepal",
          "American Samoa",
          "Dominican Republic",
          "Turkmenistan",
          "Malaysia",
          "Kuwait",
          "India",
          "Bangladesh",
          "Venezuela",
          "Mongolia",
          "Fiji",
          "Mexico",
          "Israel",
          "Myanmar",
          "Peru",
          "Ecuador",
          "Panama",
          "Morocco",
          "Kazakhstan",
          "Nicaragua",
          "Iran",
          "Tunisia",
          "Libya",
          "Bhutan",
          "Brunei",
          "Uzbekistan",
          "Paraguay",
          "Argentina",
          "Jamaica",
          "El Salvador",
          "Maldives",
          "Indonesia",
          "Colombia",
          "Saudi Arabia",
          "Suriname",
          "Antigua and Barbuda",
          "Turkey",
          "Guyana",
          "Azerbaijan",
          "Costa Rica",
          "Vietnam",
          "Grenada",
          "Northern Mariana Islands",
          "Turks and Caicos Islands",
          "Sri Lanka",
          "New Caledonia",
          "North Korea",
          "French Polynesia",
          "Faroe Islands",
          "Greenland",
          "Lebanon",
          "Brazil",
          "Ireland",
          "Cook Islands",
          "Iceland",
          "Chile",
          "Seychelles",
          "Albania",
          "New Zealand",
          "Bahrain",
          "Saint Lucia",
          "Uruguay",
          "Saint Vincent and the Grenadines",
          "Saint Kitts and Nevis",
          "Mauritius",
          "Armenia",
          "United States Virgin Islands",
          "United States",
          "Anguilla",
          "Trinidad and Tobago",
          "Aruba",
          "Norway",
          "China",
          "France",
          "Sweden",
          "Georgia",
          "United Kingdom",
          "Australia",
          "Cayman Islands",
          "Montenegro",
          "Luxembourg",
          "Barbados",
          "Belgium",
          "Bermuda",
          "Palau",
          "Moldova",
          "British Virgin Islands",
          "Thailand",
          "Netherlands",
          "Denmark",
          "Isle of Man",
          "Falkland Islands",
          "North Macedonia",
          "Russia",
          "Finland",
          "Cuba",
          "Switzerland",
          "Montserrat",
          "Liechtenstein",
          "Canada",
          "Ukraine",
          "Belarus",
          "Malta",
          "Estonia",
          "United Arab Emirates",
          "Lithuania",
          "Slovakia",
          "Latvia",
          "Austria",
          "Qatar",
          "Poland",
          "Czech Republic",
          "Slovenia",
          "Spain",
          "Hungary",
          "Serbia",
          "Hong Kong",
          "Croatia",
          "Romania",
          "Singapore",
          "Bosnia and Herzegovina",
          "Germany",
          "San Marino",
          "Italy",
          "Bulgaria",
          "Macau",
          "South Korea",
          "Greece",
          "Taiwan",
          "Portugal",
          "Japan",
          "Andorra",
          "Monaco"
         ],
         "reversescale": true,
         "text": [
          "Angola",
          "Niger",
          "Mali",
          "Chad",
          "Uganda",
          "Zambia",
          "Burundi",
          "Malawi",
          "Somalia",
          "Liberia",
          "Mozambique",
          "Afghanistan",
          "Guinea-Bissau",
          "Burkina Faso",
          "South Sudan",
          "Guinea",
          "Ethiopia",
          "Sierra Leone",
          "Tanzania",
          "Nigeria",
          "Cameroon",
          "Benin",
          "Sudan",
          "Zimbabwe",
          "Central African Republic",
          "Republic of the Congo",
          "Senegal",
          "Timor-Leste",
          "DR Congo",
          "Togo",
          "Equatorial Guinea",
          "Sao Tome and Principe",
          "Madagascar",
          "Ghana",
          "Ivory Coast",
          "Iraq",
          "Mauritania",
          "Rwanda",
          "Eritrea",
          "Egypt",
          "Yemen",
          "Namibia",
          "Comoros",
          "Guatemala",
          "Solomon Islands",
          "Lesotho",
          "Marshall Islands",
          "Oman",
          "Tuvalu",
          "Jordan",
          "Vanuatu",
          "Philippines",
          "Papua New Guinea",
          "Djibouti",
          "Laos",
          "Nauru",
          "Belize",
          "Tajikistan",
          "Kenya",
          "Haiti",
          "Cambodia",
          "Honduras",
          "Tonga",
          "Botswana",
          "Pakistan",
          "Bolivia",
          "Kyrgyzstan",
          "Algeria",
          "Kiribati",
          "Syria",
          "Samoa",
          "South Africa",
          "Cape Verde",
          "Micronesia",
          "Guam",
          "Nepal",
          "American Samoa",
          "Dominican Republic",
          "Turkmenistan",
          "Malaysia",
          "Kuwait",
          "India",
          "Bangladesh",
          "Venezuela",
          "Mongolia",
          "Fiji",
          "Mexico",
          "Israel",
          "Myanmar",
          "Peru",
          "Ecuador",
          "Panama",
          "Morocco",
          "Kazakhstan",
          "Nicaragua",
          "Iran",
          "Tunisia",
          "Libya",
          "Bhutan",
          "Brunei",
          "Uzbekistan",
          "Paraguay",
          "Argentina",
          "Jamaica",
          "El Salvador",
          "Maldives",
          "Indonesia",
          "Colombia",
          "Saudi Arabia",
          "Suriname",
          "Antigua and Barbuda",
          "Turkey",
          "Guyana",
          "Azerbaijan",
          "Costa Rica",
          "Vietnam",
          "Grenada",
          "Northern Mariana Islands",
          "Turks and Caicos Islands",
          "Sri Lanka",
          "New Caledonia",
          "North Korea",
          "French Polynesia",
          "Faroe Islands",
          "Greenland",
          "Lebanon",
          "Brazil",
          "Ireland",
          "Cook Islands",
          "Iceland",
          "Chile",
          "Seychelles",
          "Albania",
          "New Zealand",
          "Bahrain",
          "Saint Lucia",
          "Uruguay",
          "Saint Vincent and the Grenadines",
          "Saint Kitts and Nevis",
          "Mauritius",
          "Armenia",
          "United States Virgin Islands",
          "United States",
          "Anguilla",
          "Trinidad and Tobago",
          "Aruba",
          "Norway",
          "China",
          "France",
          "Sweden",
          "Georgia",
          "United Kingdom",
          "Australia",
          "Cayman Islands",
          "Montenegro",
          "Luxembourg",
          "Barbados",
          "Belgium",
          "Bermuda",
          "Palau",
          "Moldova",
          "British Virgin Islands",
          "Thailand",
          "Netherlands",
          "Denmark",
          "Isle of Man",
          "Falkland Islands",
          "North Macedonia",
          "Russia",
          "Finland",
          "Cuba",
          "Switzerland",
          "Montserrat",
          "Liechtenstein",
          "Canada",
          "Ukraine",
          "Belarus",
          "Malta",
          "Estonia",
          "United Arab Emirates",
          "Lithuania",
          "Slovakia",
          "Latvia",
          "Austria",
          "Qatar",
          "Poland",
          "Czech Republic",
          "Slovenia",
          "Spain",
          "Hungary",
          "Serbia",
          "Hong Kong",
          "Croatia",
          "Romania",
          "Singapore",
          "Bosnia and Herzegovina",
          "Germany",
          "San Marino",
          "Italy",
          "Bulgaria",
          "Macau",
          "South Korea",
          "Greece",
          "Taiwan",
          "Portugal",
          "Japan",
          "Andorra",
          "Monaco"
         ],
         "type": "choropleth",
         "z": [
          43.7,
          43.6,
          43.2,
          43,
          42.4,
          41.1,
          40.9,
          40.7,
          39.3,
          37.9,
          37.8,
          37.5,
          37.3,
          36.9,
          36.9,
          36.4,
          36,
          36,
          35.3,
          35.2,
          35,
          34.5,
          34.2,
          34,
          34,
          33.7,
          32.9,
          32.9,
          32.8,
          32.8,
          31.7,
          31.5,
          31,
          30.2,
          30.1,
          30,
          29.9,
          29.8,
          29.1,
          28.8,
          27.6,
          26.8,
          25.3,
          24.6,
          24.5,
          24.2,
          23.8,
          23.7,
          23.7,
          23.6,
          23.5,
          23.4,
          23.3,
          23.3,
          23.2,
          23.2,
          22.9,
          22.8,
          22.6,
          22.6,
          22.5,
          22,
          21.8,
          21.7,
          21.6,
          21.6,
          21.6,
          21.5,
          21,
          20.7,
          20.2,
          19.9,
          19.7,
          19.6,
          19.4,
          19.1,
          19,
          18.9,
          18.9,
          18.8,
          18.8,
          18.7,
          18.6,
          18.5,
          18.2,
          18.2,
          18.1,
          17.9,
          17.7,
          17.6,
          17.6,
          17.6,
          17.5,
          17.5,
          17.5,
          17.4,
          17.4,
          17.2,
          17,
          16.9,
          16.6,
          16.6,
          16.5,
          16.5,
          16.1,
          16.1,
          15.9,
          15.8,
          15.6,
          15.6,
          15.6,
          15.4,
          15.4,
          15.3,
          15.3,
          15.2,
          15.2,
          14.9,
          14.9,
          14.8,
          14.8,
          14.6,
          14.5,
          14.5,
          14.3,
          14.1,
          13.9,
          13.8,
          13.7,
          13.6,
          13.4,
          13.4,
          13.2,
          13.1,
          13.1,
          13.1,
          13,
          13,
          13,
          12.8,
          12.6,
          12.5,
          12.4,
          12.4,
          12.3,
          12.3,
          12.2,
          12.1,
          12.1,
          12.1,
          12.1,
          12,
          12,
          12,
          11.9,
          11.6,
          11.6,
          11.3,
          11.3,
          11.3,
          11.2,
          11.1,
          11,
          10.9,
          10.9,
          10.9,
          10.9,
          10.8,
          10.7,
          10.7,
          10.6,
          10.5,
          10.5,
          10.4,
          10.2,
          10.1,
          10,
          10,
          9.9,
          9.8,
          9.8,
          9.6,
          9.6,
          9.5,
          9.5,
          9.3,
          9.2,
          9.2,
          9,
          8.9,
          8.9,
          8.8,
          8.8,
          8.7,
          8.7,
          8.7,
          8.6,
          8.6,
          8.5,
          8.5,
          8.4,
          8.3,
          8.3,
          8.2,
          8.2,
          8,
          7.3,
          6.5
         ]
        }
       ],
       "layout": {
        "geo": {
         "projection": {
          "type": "mercator"
         },
         "showframe": false
        },
        "template": {
         "data": {
          "bar": [
           {
            "error_x": {
             "color": "#2a3f5f"
            },
            "error_y": {
             "color": "#2a3f5f"
            },
            "marker": {
             "line": {
              "color": "#E5ECF6",
              "width": 0.5
             },
             "pattern": {
              "fillmode": "overlay",
              "size": 10,
              "solidity": 0.2
             }
            },
            "type": "bar"
           }
          ],
          "barpolar": [
           {
            "marker": {
             "line": {
              "color": "#E5ECF6",
              "width": 0.5
             },
             "pattern": {
              "fillmode": "overlay",
              "size": 10,
              "solidity": 0.2
             }
            },
            "type": "barpolar"
           }
          ],
          "carpet": [
           {
            "aaxis": {
             "endlinecolor": "#2a3f5f",
             "gridcolor": "white",
             "linecolor": "white",
             "minorgridcolor": "white",
             "startlinecolor": "#2a3f5f"
            },
            "baxis": {
             "endlinecolor": "#2a3f5f",
             "gridcolor": "white",
             "linecolor": "white",
             "minorgridcolor": "white",
             "startlinecolor": "#2a3f5f"
            },
            "type": "carpet"
           }
          ],
          "choropleth": [
           {
            "colorbar": {
             "outlinewidth": 0,
             "ticks": ""
            },
            "type": "choropleth"
           }
          ],
          "contour": [
           {
            "colorbar": {
             "outlinewidth": 0,
             "ticks": ""
            },
            "colorscale": [
             [
              0,
              "#0d0887"
             ],
             [
              0.1111111111111111,
              "#46039f"
             ],
             [
              0.2222222222222222,
              "#7201a8"
             ],
             [
              0.3333333333333333,
              "#9c179e"
             ],
             [
              0.4444444444444444,
              "#bd3786"
             ],
             [
              0.5555555555555556,
              "#d8576b"
             ],
             [
              0.6666666666666666,
              "#ed7953"
             ],
             [
              0.7777777777777778,
              "#fb9f3a"
             ],
             [
              0.8888888888888888,
              "#fdca26"
             ],
             [
              1,
              "#f0f921"
             ]
            ],
            "type": "contour"
           }
          ],
          "contourcarpet": [
           {
            "colorbar": {
             "outlinewidth": 0,
             "ticks": ""
            },
            "type": "contourcarpet"
           }
          ],
          "heatmap": [
           {
            "colorbar": {
             "outlinewidth": 0,
             "ticks": ""
            },
            "colorscale": [
             [
              0,
              "#0d0887"
             ],
             [
              0.1111111111111111,
              "#46039f"
             ],
             [
              0.2222222222222222,
              "#7201a8"
             ],
             [
              0.3333333333333333,
              "#9c179e"
             ],
             [
              0.4444444444444444,
              "#bd3786"
             ],
             [
              0.5555555555555556,
              "#d8576b"
             ],
             [
              0.6666666666666666,
              "#ed7953"
             ],
             [
              0.7777777777777778,
              "#fb9f3a"
             ],
             [
              0.8888888888888888,
              "#fdca26"
             ],
             [
              1,
              "#f0f921"
             ]
            ],
            "type": "heatmap"
           }
          ],
          "heatmapgl": [
           {
            "colorbar": {
             "outlinewidth": 0,
             "ticks": ""
            },
            "colorscale": [
             [
              0,
              "#0d0887"
             ],
             [
              0.1111111111111111,
              "#46039f"
             ],
             [
              0.2222222222222222,
              "#7201a8"
             ],
             [
              0.3333333333333333,
              "#9c179e"
             ],
             [
              0.4444444444444444,
              "#bd3786"
             ],
             [
              0.5555555555555556,
              "#d8576b"
             ],
             [
              0.6666666666666666,
              "#ed7953"
             ],
             [
              0.7777777777777778,
              "#fb9f3a"
             ],
             [
              0.8888888888888888,
              "#fdca26"
             ],
             [
              1,
              "#f0f921"
             ]
            ],
            "type": "heatmapgl"
           }
          ],
          "histogram": [
           {
            "marker": {
             "pattern": {
              "fillmode": "overlay",
              "size": 10,
              "solidity": 0.2
             }
            },
            "type": "histogram"
           }
          ],
          "histogram2d": [
           {
            "colorbar": {
             "outlinewidth": 0,
             "ticks": ""
            },
            "colorscale": [
             [
              0,
              "#0d0887"
             ],
             [
              0.1111111111111111,
              "#46039f"
             ],
             [
              0.2222222222222222,
              "#7201a8"
             ],
             [
              0.3333333333333333,
              "#9c179e"
             ],
             [
              0.4444444444444444,
              "#bd3786"
             ],
             [
              0.5555555555555556,
              "#d8576b"
             ],
             [
              0.6666666666666666,
              "#ed7953"
             ],
             [
              0.7777777777777778,
              "#fb9f3a"
             ],
             [
              0.8888888888888888,
              "#fdca26"
             ],
             [
              1,
              "#f0f921"
             ]
            ],
            "type": "histogram2d"
           }
          ],
          "histogram2dcontour": [
           {
            "colorbar": {
             "outlinewidth": 0,
             "ticks": ""
            },
            "colorscale": [
             [
              0,
              "#0d0887"
             ],
             [
              0.1111111111111111,
              "#46039f"
             ],
             [
              0.2222222222222222,
              "#7201a8"
             ],
             [
              0.3333333333333333,
              "#9c179e"
             ],
             [
              0.4444444444444444,
              "#bd3786"
             ],
             [
              0.5555555555555556,
              "#d8576b"
             ],
             [
              0.6666666666666666,
              "#ed7953"
             ],
             [
              0.7777777777777778,
              "#fb9f3a"
             ],
             [
              0.8888888888888888,
              "#fdca26"
             ],
             [
              1,
              "#f0f921"
             ]
            ],
            "type": "histogram2dcontour"
           }
          ],
          "mesh3d": [
           {
            "colorbar": {
             "outlinewidth": 0,
             "ticks": ""
            },
            "type": "mesh3d"
           }
          ],
          "parcoords": [
           {
            "line": {
             "colorbar": {
              "outlinewidth": 0,
              "ticks": ""
             }
            },
            "type": "parcoords"
           }
          ],
          "pie": [
           {
            "automargin": true,
            "type": "pie"
           }
          ],
          "scatter": [
           {
            "marker": {
             "colorbar": {
              "outlinewidth": 0,
              "ticks": ""
             }
            },
            "type": "scatter"
           }
          ],
          "scatter3d": [
           {
            "line": {
             "colorbar": {
              "outlinewidth": 0,
              "ticks": ""
             }
            },
            "marker": {
             "colorbar": {
              "outlinewidth": 0,
              "ticks": ""
             }
            },
            "type": "scatter3d"
           }
          ],
          "scattercarpet": [
           {
            "marker": {
             "colorbar": {
              "outlinewidth": 0,
              "ticks": ""
             }
            },
            "type": "scattercarpet"
           }
          ],
          "scattergeo": [
           {
            "marker": {
             "colorbar": {
              "outlinewidth": 0,
              "ticks": ""
             }
            },
            "type": "scattergeo"
           }
          ],
          "scattergl": [
           {
            "marker": {
             "colorbar": {
              "outlinewidth": 0,
              "ticks": ""
             }
            },
            "type": "scattergl"
           }
          ],
          "scattermapbox": [
           {
            "marker": {
             "colorbar": {
              "outlinewidth": 0,
              "ticks": ""
             }
            },
            "type": "scattermapbox"
           }
          ],
          "scatterpolar": [
           {
            "marker": {
             "colorbar": {
              "outlinewidth": 0,
              "ticks": ""
             }
            },
            "type": "scatterpolar"
           }
          ],
          "scatterpolargl": [
           {
            "marker": {
             "colorbar": {
              "outlinewidth": 0,
              "ticks": ""
             }
            },
            "type": "scatterpolargl"
           }
          ],
          "scatterternary": [
           {
            "marker": {
             "colorbar": {
              "outlinewidth": 0,
              "ticks": ""
             }
            },
            "type": "scatterternary"
           }
          ],
          "surface": [
           {
            "colorbar": {
             "outlinewidth": 0,
             "ticks": ""
            },
            "colorscale": [
             [
              0,
              "#0d0887"
             ],
             [
              0.1111111111111111,
              "#46039f"
             ],
             [
              0.2222222222222222,
              "#7201a8"
             ],
             [
              0.3333333333333333,
              "#9c179e"
             ],
             [
              0.4444444444444444,
              "#bd3786"
             ],
             [
              0.5555555555555556,
              "#d8576b"
             ],
             [
              0.6666666666666666,
              "#ed7953"
             ],
             [
              0.7777777777777778,
              "#fb9f3a"
             ],
             [
              0.8888888888888888,
              "#fdca26"
             ],
             [
              1,
              "#f0f921"
             ]
            ],
            "type": "surface"
           }
          ],
          "table": [
           {
            "cells": {
             "fill": {
              "color": "#EBF0F8"
             },
             "line": {
              "color": "white"
             }
            },
            "header": {
             "fill": {
              "color": "#C8D4E3"
             },
             "line": {
              "color": "white"
             }
            },
            "type": "table"
           }
          ]
         },
         "layout": {
          "annotationdefaults": {
           "arrowcolor": "#2a3f5f",
           "arrowhead": 0,
           "arrowwidth": 1
          },
          "autotypenumbers": "strict",
          "coloraxis": {
           "colorbar": {
            "outlinewidth": 0,
            "ticks": ""
           }
          },
          "colorscale": {
           "diverging": [
            [
             0,
             "#8e0152"
            ],
            [
             0.1,
             "#c51b7d"
            ],
            [
             0.2,
             "#de77ae"
            ],
            [
             0.3,
             "#f1b6da"
            ],
            [
             0.4,
             "#fde0ef"
            ],
            [
             0.5,
             "#f7f7f7"
            ],
            [
             0.6,
             "#e6f5d0"
            ],
            [
             0.7,
             "#b8e186"
            ],
            [
             0.8,
             "#7fbc41"
            ],
            [
             0.9,
             "#4d9221"
            ],
            [
             1,
             "#276419"
            ]
           ],
           "sequential": [
            [
             0,
             "#0d0887"
            ],
            [
             0.1111111111111111,
             "#46039f"
            ],
            [
             0.2222222222222222,
             "#7201a8"
            ],
            [
             0.3333333333333333,
             "#9c179e"
            ],
            [
             0.4444444444444444,
             "#bd3786"
            ],
            [
             0.5555555555555556,
             "#d8576b"
            ],
            [
             0.6666666666666666,
             "#ed7953"
            ],
            [
             0.7777777777777778,
             "#fb9f3a"
            ],
            [
             0.8888888888888888,
             "#fdca26"
            ],
            [
             1,
             "#f0f921"
            ]
           ],
           "sequentialminus": [
            [
             0,
             "#0d0887"
            ],
            [
             0.1111111111111111,
             "#46039f"
            ],
            [
             0.2222222222222222,
             "#7201a8"
            ],
            [
             0.3333333333333333,
             "#9c179e"
            ],
            [
             0.4444444444444444,
             "#bd3786"
            ],
            [
             0.5555555555555556,
             "#d8576b"
            ],
            [
             0.6666666666666666,
             "#ed7953"
            ],
            [
             0.7777777777777778,
             "#fb9f3a"
            ],
            [
             0.8888888888888888,
             "#fdca26"
            ],
            [
             1,
             "#f0f921"
            ]
           ]
          },
          "colorway": [
           "#636efa",
           "#EF553B",
           "#00cc96",
           "#ab63fa",
           "#FFA15A",
           "#19d3f3",
           "#FF6692",
           "#B6E880",
           "#FF97FF",
           "#FECB52"
          ],
          "font": {
           "color": "#2a3f5f"
          },
          "geo": {
           "bgcolor": "white",
           "lakecolor": "white",
           "landcolor": "#E5ECF6",
           "showlakes": true,
           "showland": true,
           "subunitcolor": "white"
          },
          "hoverlabel": {
           "align": "left"
          },
          "hovermode": "closest",
          "mapbox": {
           "style": "light"
          },
          "paper_bgcolor": "white",
          "plot_bgcolor": "#E5ECF6",
          "polar": {
           "angularaxis": {
            "gridcolor": "white",
            "linecolor": "white",
            "ticks": ""
           },
           "bgcolor": "#E5ECF6",
           "radialaxis": {
            "gridcolor": "white",
            "linecolor": "white",
            "ticks": ""
           }
          },
          "scene": {
           "xaxis": {
            "backgroundcolor": "#E5ECF6",
            "gridcolor": "white",
            "gridwidth": 2,
            "linecolor": "white",
            "showbackground": true,
            "ticks": "",
            "zerolinecolor": "white"
           },
           "yaxis": {
            "backgroundcolor": "#E5ECF6",
            "gridcolor": "white",
            "gridwidth": 2,
            "linecolor": "white",
            "showbackground": true,
            "ticks": "",
            "zerolinecolor": "white"
           },
           "zaxis": {
            "backgroundcolor": "#E5ECF6",
            "gridcolor": "white",
            "gridwidth": 2,
            "linecolor": "white",
            "showbackground": true,
            "ticks": "",
            "zerolinecolor": "white"
           }
          },
          "shapedefaults": {
           "line": {
            "color": "#2a3f5f"
           }
          },
          "ternary": {
           "aaxis": {
            "gridcolor": "white",
            "linecolor": "white",
            "ticks": ""
           },
           "baxis": {
            "gridcolor": "white",
            "linecolor": "white",
            "ticks": ""
           },
           "bgcolor": "#E5ECF6",
           "caxis": {
            "gridcolor": "white",
            "linecolor": "white",
            "ticks": ""
           }
          },
          "title": {
           "x": 0.05
          },
          "xaxis": {
           "automargin": true,
           "gridcolor": "white",
           "linecolor": "white",
           "ticks": "",
           "title": {
            "standoff": 15
           },
           "zerolinecolor": "white",
           "zerolinewidth": 2
          },
          "yaxis": {
           "automargin": true,
           "gridcolor": "white",
           "linecolor": "white",
           "ticks": "",
           "title": {
            "standoff": 15
           },
           "zerolinecolor": "white",
           "zerolinewidth": 2
          }
         }
        },
        "title": {
         "text": "Dünya Doğurganlık Oranı"
        }
       }
      },
      "text/html": [
       "<div>                            <div id=\"30c58487-b62d-4b52-802f-c7e8d5696a8e\" class=\"plotly-graph-div\" style=\"height:525px; width:100%;\"></div>            <script type=\"text/javascript\">                require([\"plotly\"], function(Plotly) {                    window.PLOTLYENV=window.PLOTLYENV || {};                                    if (document.getElementById(\"30c58487-b62d-4b52-802f-c7e8d5696a8e\")) {                    Plotly.newPlot(                        \"30c58487-b62d-4b52-802f-c7e8d5696a8e\",                        [{\"colorbar\":{\"title\":{\"text\":\"D\\u00fcnya Do\\u011furganl\\u0131k Oran\\u0131\"}},\"colorscale\":[[0.0,\"#440154\"],[0.1111111111111111,\"#482878\"],[0.2222222222222222,\"#3e4989\"],[0.3333333333333333,\"#31688e\"],[0.4444444444444444,\"#26828e\"],[0.5555555555555556,\"#1f9e89\"],[0.6666666666666666,\"#35b779\"],[0.7777777777777778,\"#6ece58\"],[0.8888888888888888,\"#b5de2b\"],[1.0,\"#fde725\"]],\"locationmode\":\"country names\",\"locations\":[\"Angola\",\"Niger\",\"Mali\",\"Chad\",\"Uganda\",\"Zambia\",\"Burundi\",\"Malawi\",\"Somalia\",\"Liberia\",\"Mozambique\",\"Afghanistan\",\"Guinea-Bissau\",\"Burkina Faso\",\"South Sudan\",\"Guinea\",\"Ethiopia\",\"Sierra Leone\",\"Tanzania\",\"Nigeria\",\"Cameroon\",\"Benin\",\"Sudan\",\"Zimbabwe\",\"Central African Republic\",\"Republic of the Congo\",\"Senegal\",\"Timor-Leste\",\"DR Congo\",\"Togo\",\"Equatorial Guinea\",\"Sao Tome and Principe\",\"Madagascar\",\"Ghana\",\"Ivory Coast\",\"Iraq\",\"Mauritania\",\"Rwanda\",\"Eritrea\",\"Egypt\",\"Yemen\",\"Namibia\",\"Comoros\",\"Guatemala\",\"Solomon Islands\",\"Lesotho\",\"Marshall Islands\",\"Oman\",\"Tuvalu\",\"Jordan\",\"Vanuatu\",\"Philippines\",\"Papua New Guinea\",\"Djibouti\",\"Laos\",\"Nauru\",\"Belize\",\"Tajikistan\",\"Kenya\",\"Haiti\",\"Cambodia\",\"Honduras\",\"Tonga\",\"Botswana\",\"Pakistan\",\"Bolivia\",\"Kyrgyzstan\",\"Algeria\",\"Kiribati\",\"Syria\",\"Samoa\",\"South Africa\",\"Cape Verde\",\"Micronesia\",\"Guam\",\"Nepal\",\"American Samoa\",\"Dominican Republic\",\"Turkmenistan\",\"Malaysia\",\"Kuwait\",\"India\",\"Bangladesh\",\"Venezuela\",\"Mongolia\",\"Fiji\",\"Mexico\",\"Israel\",\"Myanmar\",\"Peru\",\"Ecuador\",\"Panama\",\"Morocco\",\"Kazakhstan\",\"Nicaragua\",\"Iran\",\"Tunisia\",\"Libya\",\"Bhutan\",\"Brunei\",\"Uzbekistan\",\"Paraguay\",\"Argentina\",\"Jamaica\",\"El Salvador\",\"Maldives\",\"Indonesia\",\"Colombia\",\"Saudi Arabia\",\"Suriname\",\"Antigua and Barbuda\",\"Turkey\",\"Guyana\",\"Azerbaijan\",\"Costa Rica\",\"Vietnam\",\"Grenada\",\"Northern Mariana Islands\",\"Turks and Caicos Islands\",\"Sri Lanka\",\"New Caledonia\",\"North Korea\",\"French Polynesia\",\"Faroe Islands\",\"Greenland\",\"Lebanon\",\"Brazil\",\"Ireland\",\"Cook Islands\",\"Iceland\",\"Chile\",\"Seychelles\",\"Albania\",\"New Zealand\",\"Bahrain\",\"Saint Lucia\",\"Uruguay\",\"Saint Vincent and the Grenadines\",\"Saint Kitts and Nevis\",\"Mauritius\",\"Armenia\",\"United States Virgin Islands\",\"United States\",\"Anguilla\",\"Trinidad and Tobago\",\"Aruba\",\"Norway\",\"China\",\"France\",\"Sweden\",\"Georgia\",\"United Kingdom\",\"Australia\",\"Cayman Islands\",\"Montenegro\",\"Luxembourg\",\"Barbados\",\"Belgium\",\"Bermuda\",\"Palau\",\"Moldova\",\"British Virgin Islands\",\"Thailand\",\"Netherlands\",\"Denmark\",\"Isle of Man\",\"Falkland Islands\",\"North Macedonia\",\"Russia\",\"Finland\",\"Cuba\",\"Switzerland\",\"Montserrat\",\"Liechtenstein\",\"Canada\",\"Ukraine\",\"Belarus\",\"Malta\",\"Estonia\",\"United Arab Emirates\",\"Lithuania\",\"Slovakia\",\"Latvia\",\"Austria\",\"Qatar\",\"Poland\",\"Czech Republic\",\"Slovenia\",\"Spain\",\"Hungary\",\"Serbia\",\"Hong Kong\",\"Croatia\",\"Romania\",\"Singapore\",\"Bosnia and Herzegovina\",\"Germany\",\"San Marino\",\"Italy\",\"Bulgaria\",\"Macau\",\"South Korea\",\"Greece\",\"Taiwan\",\"Portugal\",\"Japan\",\"Andorra\",\"Monaco\"],\"reversescale\":true,\"text\":[\"Angola\",\"Niger\",\"Mali\",\"Chad\",\"Uganda\",\"Zambia\",\"Burundi\",\"Malawi\",\"Somalia\",\"Liberia\",\"Mozambique\",\"Afghanistan\",\"Guinea-Bissau\",\"Burkina Faso\",\"South Sudan\",\"Guinea\",\"Ethiopia\",\"Sierra Leone\",\"Tanzania\",\"Nigeria\",\"Cameroon\",\"Benin\",\"Sudan\",\"Zimbabwe\",\"Central African Republic\",\"Republic of the Congo\",\"Senegal\",\"Timor-Leste\",\"DR Congo\",\"Togo\",\"Equatorial Guinea\",\"Sao Tome and Principe\",\"Madagascar\",\"Ghana\",\"Ivory Coast\",\"Iraq\",\"Mauritania\",\"Rwanda\",\"Eritrea\",\"Egypt\",\"Yemen\",\"Namibia\",\"Comoros\",\"Guatemala\",\"Solomon Islands\",\"Lesotho\",\"Marshall Islands\",\"Oman\",\"Tuvalu\",\"Jordan\",\"Vanuatu\",\"Philippines\",\"Papua New Guinea\",\"Djibouti\",\"Laos\",\"Nauru\",\"Belize\",\"Tajikistan\",\"Kenya\",\"Haiti\",\"Cambodia\",\"Honduras\",\"Tonga\",\"Botswana\",\"Pakistan\",\"Bolivia\",\"Kyrgyzstan\",\"Algeria\",\"Kiribati\",\"Syria\",\"Samoa\",\"South Africa\",\"Cape Verde\",\"Micronesia\",\"Guam\",\"Nepal\",\"American Samoa\",\"Dominican Republic\",\"Turkmenistan\",\"Malaysia\",\"Kuwait\",\"India\",\"Bangladesh\",\"Venezuela\",\"Mongolia\",\"Fiji\",\"Mexico\",\"Israel\",\"Myanmar\",\"Peru\",\"Ecuador\",\"Panama\",\"Morocco\",\"Kazakhstan\",\"Nicaragua\",\"Iran\",\"Tunisia\",\"Libya\",\"Bhutan\",\"Brunei\",\"Uzbekistan\",\"Paraguay\",\"Argentina\",\"Jamaica\",\"El Salvador\",\"Maldives\",\"Indonesia\",\"Colombia\",\"Saudi Arabia\",\"Suriname\",\"Antigua and Barbuda\",\"Turkey\",\"Guyana\",\"Azerbaijan\",\"Costa Rica\",\"Vietnam\",\"Grenada\",\"Northern Mariana Islands\",\"Turks and Caicos Islands\",\"Sri Lanka\",\"New Caledonia\",\"North Korea\",\"French Polynesia\",\"Faroe Islands\",\"Greenland\",\"Lebanon\",\"Brazil\",\"Ireland\",\"Cook Islands\",\"Iceland\",\"Chile\",\"Seychelles\",\"Albania\",\"New Zealand\",\"Bahrain\",\"Saint Lucia\",\"Uruguay\",\"Saint Vincent and the Grenadines\",\"Saint Kitts and Nevis\",\"Mauritius\",\"Armenia\",\"United States Virgin Islands\",\"United States\",\"Anguilla\",\"Trinidad and Tobago\",\"Aruba\",\"Norway\",\"China\",\"France\",\"Sweden\",\"Georgia\",\"United Kingdom\",\"Australia\",\"Cayman Islands\",\"Montenegro\",\"Luxembourg\",\"Barbados\",\"Belgium\",\"Bermuda\",\"Palau\",\"Moldova\",\"British Virgin Islands\",\"Thailand\",\"Netherlands\",\"Denmark\",\"Isle of Man\",\"Falkland Islands\",\"North Macedonia\",\"Russia\",\"Finland\",\"Cuba\",\"Switzerland\",\"Montserrat\",\"Liechtenstein\",\"Canada\",\"Ukraine\",\"Belarus\",\"Malta\",\"Estonia\",\"United Arab Emirates\",\"Lithuania\",\"Slovakia\",\"Latvia\",\"Austria\",\"Qatar\",\"Poland\",\"Czech Republic\",\"Slovenia\",\"Spain\",\"Hungary\",\"Serbia\",\"Hong Kong\",\"Croatia\",\"Romania\",\"Singapore\",\"Bosnia and Herzegovina\",\"Germany\",\"San Marino\",\"Italy\",\"Bulgaria\",\"Macau\",\"South Korea\",\"Greece\",\"Taiwan\",\"Portugal\",\"Japan\",\"Andorra\",\"Monaco\"],\"z\":[43.7,43.6,43.2,43.0,42.4,41.1,40.9,40.7,39.3,37.9,37.8,37.5,37.3,36.9,36.9,36.4,36.0,36.0,35.3,35.2,35.0,34.5,34.2,34.0,34.0,33.7,32.9,32.9,32.8,32.8,31.7,31.5,31.0,30.2,30.1,30.0,29.9,29.8,29.1,28.8,27.6,26.8,25.3,24.6,24.5,24.2,23.8,23.7,23.7,23.6,23.5,23.4,23.3,23.3,23.2,23.2,22.9,22.8,22.6,22.6,22.5,22.0,21.8,21.7,21.6,21.6,21.6,21.5,21.0,20.7,20.2,19.9,19.7,19.6,19.4,19.1,19.0,18.9,18.9,18.8,18.8,18.7,18.6,18.5,18.2,18.2,18.1,17.9,17.7,17.6,17.6,17.6,17.5,17.5,17.5,17.4,17.4,17.2,17.0,16.9,16.6,16.6,16.5,16.5,16.1,16.1,15.9,15.8,15.6,15.6,15.6,15.4,15.4,15.3,15.3,15.2,15.2,14.9,14.9,14.8,14.8,14.6,14.5,14.5,14.3,14.1,13.9,13.8,13.7,13.6,13.4,13.4,13.2,13.1,13.1,13.1,13.0,13.0,13.0,12.8,12.6,12.5,12.4,12.4,12.3,12.3,12.2,12.1,12.1,12.1,12.1,12.0,12.0,12.0,11.9,11.6,11.6,11.3,11.3,11.3,11.2,11.1,11.0,10.9,10.9,10.9,10.9,10.8,10.7,10.7,10.6,10.5,10.5,10.4,10.2,10.1,10.0,10.0,9.9,9.8,9.8,9.6,9.6,9.5,9.5,9.3,9.2,9.2,9.0,8.9,8.9,8.8,8.8,8.7,8.7,8.7,8.6,8.6,8.5,8.5,8.4,8.3,8.3,8.2,8.2,8.0,7.3,6.5],\"type\":\"choropleth\"}],                        {\"geo\":{\"projection\":{\"type\":\"mercator\"},\"showframe\":false},\"title\":{\"text\":\"D\\u00fcnya Do\\u011furganl\\u0131k Oran\\u0131\"},\"template\":{\"data\":{\"bar\":[{\"error_x\":{\"color\":\"#2a3f5f\"},\"error_y\":{\"color\":\"#2a3f5f\"},\"marker\":{\"line\":{\"color\":\"#E5ECF6\",\"width\":0.5},\"pattern\":{\"fillmode\":\"overlay\",\"size\":10,\"solidity\":0.2}},\"type\":\"bar\"}],\"barpolar\":[{\"marker\":{\"line\":{\"color\":\"#E5ECF6\",\"width\":0.5},\"pattern\":{\"fillmode\":\"overlay\",\"size\":10,\"solidity\":0.2}},\"type\":\"barpolar\"}],\"carpet\":[{\"aaxis\":{\"endlinecolor\":\"#2a3f5f\",\"gridcolor\":\"white\",\"linecolor\":\"white\",\"minorgridcolor\":\"white\",\"startlinecolor\":\"#2a3f5f\"},\"baxis\":{\"endlinecolor\":\"#2a3f5f\",\"gridcolor\":\"white\",\"linecolor\":\"white\",\"minorgridcolor\":\"white\",\"startlinecolor\":\"#2a3f5f\"},\"type\":\"carpet\"}],\"choropleth\":[{\"colorbar\":{\"outlinewidth\":0,\"ticks\":\"\"},\"type\":\"choropleth\"}],\"contour\":[{\"colorbar\":{\"outlinewidth\":0,\"ticks\":\"\"},\"colorscale\":[[0.0,\"#0d0887\"],[0.1111111111111111,\"#46039f\"],[0.2222222222222222,\"#7201a8\"],[0.3333333333333333,\"#9c179e\"],[0.4444444444444444,\"#bd3786\"],[0.5555555555555556,\"#d8576b\"],[0.6666666666666666,\"#ed7953\"],[0.7777777777777778,\"#fb9f3a\"],[0.8888888888888888,\"#fdca26\"],[1.0,\"#f0f921\"]],\"type\":\"contour\"}],\"contourcarpet\":[{\"colorbar\":{\"outlinewidth\":0,\"ticks\":\"\"},\"type\":\"contourcarpet\"}],\"heatmap\":[{\"colorbar\":{\"outlinewidth\":0,\"ticks\":\"\"},\"colorscale\":[[0.0,\"#0d0887\"],[0.1111111111111111,\"#46039f\"],[0.2222222222222222,\"#7201a8\"],[0.3333333333333333,\"#9c179e\"],[0.4444444444444444,\"#bd3786\"],[0.5555555555555556,\"#d8576b\"],[0.6666666666666666,\"#ed7953\"],[0.7777777777777778,\"#fb9f3a\"],[0.8888888888888888,\"#fdca26\"],[1.0,\"#f0f921\"]],\"type\":\"heatmap\"}],\"heatmapgl\":[{\"colorbar\":{\"outlinewidth\":0,\"ticks\":\"\"},\"colorscale\":[[0.0,\"#0d0887\"],[0.1111111111111111,\"#46039f\"],[0.2222222222222222,\"#7201a8\"],[0.3333333333333333,\"#9c179e\"],[0.4444444444444444,\"#bd3786\"],[0.5555555555555556,\"#d8576b\"],[0.6666666666666666,\"#ed7953\"],[0.7777777777777778,\"#fb9f3a\"],[0.8888888888888888,\"#fdca26\"],[1.0,\"#f0f921\"]],\"type\":\"heatmapgl\"}],\"histogram\":[{\"marker\":{\"pattern\":{\"fillmode\":\"overlay\",\"size\":10,\"solidity\":0.2}},\"type\":\"histogram\"}],\"histogram2d\":[{\"colorbar\":{\"outlinewidth\":0,\"ticks\":\"\"},\"colorscale\":[[0.0,\"#0d0887\"],[0.1111111111111111,\"#46039f\"],[0.2222222222222222,\"#7201a8\"],[0.3333333333333333,\"#9c179e\"],[0.4444444444444444,\"#bd3786\"],[0.5555555555555556,\"#d8576b\"],[0.6666666666666666,\"#ed7953\"],[0.7777777777777778,\"#fb9f3a\"],[0.8888888888888888,\"#fdca26\"],[1.0,\"#f0f921\"]],\"type\":\"histogram2d\"}],\"histogram2dcontour\":[{\"colorbar\":{\"outlinewidth\":0,\"ticks\":\"\"},\"colorscale\":[[0.0,\"#0d0887\"],[0.1111111111111111,\"#46039f\"],[0.2222222222222222,\"#7201a8\"],[0.3333333333333333,\"#9c179e\"],[0.4444444444444444,\"#bd3786\"],[0.5555555555555556,\"#d8576b\"],[0.6666666666666666,\"#ed7953\"],[0.7777777777777778,\"#fb9f3a\"],[0.8888888888888888,\"#fdca26\"],[1.0,\"#f0f921\"]],\"type\":\"histogram2dcontour\"}],\"mesh3d\":[{\"colorbar\":{\"outlinewidth\":0,\"ticks\":\"\"},\"type\":\"mesh3d\"}],\"parcoords\":[{\"line\":{\"colorbar\":{\"outlinewidth\":0,\"ticks\":\"\"}},\"type\":\"parcoords\"}],\"pie\":[{\"automargin\":true,\"type\":\"pie\"}],\"scatter\":[{\"marker\":{\"colorbar\":{\"outlinewidth\":0,\"ticks\":\"\"}},\"type\":\"scatter\"}],\"scatter3d\":[{\"line\":{\"colorbar\":{\"outlinewidth\":0,\"ticks\":\"\"}},\"marker\":{\"colorbar\":{\"outlinewidth\":0,\"ticks\":\"\"}},\"type\":\"scatter3d\"}],\"scattercarpet\":[{\"marker\":{\"colorbar\":{\"outlinewidth\":0,\"ticks\":\"\"}},\"type\":\"scattercarpet\"}],\"scattergeo\":[{\"marker\":{\"colorbar\":{\"outlinewidth\":0,\"ticks\":\"\"}},\"type\":\"scattergeo\"}],\"scattergl\":[{\"marker\":{\"colorbar\":{\"outlinewidth\":0,\"ticks\":\"\"}},\"type\":\"scattergl\"}],\"scattermapbox\":[{\"marker\":{\"colorbar\":{\"outlinewidth\":0,\"ticks\":\"\"}},\"type\":\"scattermapbox\"}],\"scatterpolar\":[{\"marker\":{\"colorbar\":{\"outlinewidth\":0,\"ticks\":\"\"}},\"type\":\"scatterpolar\"}],\"scatterpolargl\":[{\"marker\":{\"colorbar\":{\"outlinewidth\":0,\"ticks\":\"\"}},\"type\":\"scatterpolargl\"}],\"scatterternary\":[{\"marker\":{\"colorbar\":{\"outlinewidth\":0,\"ticks\":\"\"}},\"type\":\"scatterternary\"}],\"surface\":[{\"colorbar\":{\"outlinewidth\":0,\"ticks\":\"\"},\"colorscale\":[[0.0,\"#0d0887\"],[0.1111111111111111,\"#46039f\"],[0.2222222222222222,\"#7201a8\"],[0.3333333333333333,\"#9c179e\"],[0.4444444444444444,\"#bd3786\"],[0.5555555555555556,\"#d8576b\"],[0.6666666666666666,\"#ed7953\"],[0.7777777777777778,\"#fb9f3a\"],[0.8888888888888888,\"#fdca26\"],[1.0,\"#f0f921\"]],\"type\":\"surface\"}],\"table\":[{\"cells\":{\"fill\":{\"color\":\"#EBF0F8\"},\"line\":{\"color\":\"white\"}},\"header\":{\"fill\":{\"color\":\"#C8D4E3\"},\"line\":{\"color\":\"white\"}},\"type\":\"table\"}]},\"layout\":{\"annotationdefaults\":{\"arrowcolor\":\"#2a3f5f\",\"arrowhead\":0,\"arrowwidth\":1},\"autotypenumbers\":\"strict\",\"coloraxis\":{\"colorbar\":{\"outlinewidth\":0,\"ticks\":\"\"}},\"colorscale\":{\"diverging\":[[0,\"#8e0152\"],[0.1,\"#c51b7d\"],[0.2,\"#de77ae\"],[0.3,\"#f1b6da\"],[0.4,\"#fde0ef\"],[0.5,\"#f7f7f7\"],[0.6,\"#e6f5d0\"],[0.7,\"#b8e186\"],[0.8,\"#7fbc41\"],[0.9,\"#4d9221\"],[1,\"#276419\"]],\"sequential\":[[0.0,\"#0d0887\"],[0.1111111111111111,\"#46039f\"],[0.2222222222222222,\"#7201a8\"],[0.3333333333333333,\"#9c179e\"],[0.4444444444444444,\"#bd3786\"],[0.5555555555555556,\"#d8576b\"],[0.6666666666666666,\"#ed7953\"],[0.7777777777777778,\"#fb9f3a\"],[0.8888888888888888,\"#fdca26\"],[1.0,\"#f0f921\"]],\"sequentialminus\":[[0.0,\"#0d0887\"],[0.1111111111111111,\"#46039f\"],[0.2222222222222222,\"#7201a8\"],[0.3333333333333333,\"#9c179e\"],[0.4444444444444444,\"#bd3786\"],[0.5555555555555556,\"#d8576b\"],[0.6666666666666666,\"#ed7953\"],[0.7777777777777778,\"#fb9f3a\"],[0.8888888888888888,\"#fdca26\"],[1.0,\"#f0f921\"]]},\"colorway\":[\"#636efa\",\"#EF553B\",\"#00cc96\",\"#ab63fa\",\"#FFA15A\",\"#19d3f3\",\"#FF6692\",\"#B6E880\",\"#FF97FF\",\"#FECB52\"],\"font\":{\"color\":\"#2a3f5f\"},\"geo\":{\"bgcolor\":\"white\",\"lakecolor\":\"white\",\"landcolor\":\"#E5ECF6\",\"showlakes\":true,\"showland\":true,\"subunitcolor\":\"white\"},\"hoverlabel\":{\"align\":\"left\"},\"hovermode\":\"closest\",\"mapbox\":{\"style\":\"light\"},\"paper_bgcolor\":\"white\",\"plot_bgcolor\":\"#E5ECF6\",\"polar\":{\"angularaxis\":{\"gridcolor\":\"white\",\"linecolor\":\"white\",\"ticks\":\"\"},\"bgcolor\":\"#E5ECF6\",\"radialaxis\":{\"gridcolor\":\"white\",\"linecolor\":\"white\",\"ticks\":\"\"}},\"scene\":{\"xaxis\":{\"backgroundcolor\":\"#E5ECF6\",\"gridcolor\":\"white\",\"gridwidth\":2,\"linecolor\":\"white\",\"showbackground\":true,\"ticks\":\"\",\"zerolinecolor\":\"white\"},\"yaxis\":{\"backgroundcolor\":\"#E5ECF6\",\"gridcolor\":\"white\",\"gridwidth\":2,\"linecolor\":\"white\",\"showbackground\":true,\"ticks\":\"\",\"zerolinecolor\":\"white\"},\"zaxis\":{\"backgroundcolor\":\"#E5ECF6\",\"gridcolor\":\"white\",\"gridwidth\":2,\"linecolor\":\"white\",\"showbackground\":true,\"ticks\":\"\",\"zerolinecolor\":\"white\"}},\"shapedefaults\":{\"line\":{\"color\":\"#2a3f5f\"}},\"ternary\":{\"aaxis\":{\"gridcolor\":\"white\",\"linecolor\":\"white\",\"ticks\":\"\"},\"baxis\":{\"gridcolor\":\"white\",\"linecolor\":\"white\",\"ticks\":\"\"},\"bgcolor\":\"#E5ECF6\",\"caxis\":{\"gridcolor\":\"white\",\"linecolor\":\"white\",\"ticks\":\"\"}},\"title\":{\"x\":0.05},\"xaxis\":{\"automargin\":true,\"gridcolor\":\"white\",\"linecolor\":\"white\",\"ticks\":\"\",\"title\":{\"standoff\":15},\"zerolinecolor\":\"white\",\"zerolinewidth\":2},\"yaxis\":{\"automargin\":true,\"gridcolor\":\"white\",\"linecolor\":\"white\",\"ticks\":\"\",\"title\":{\"standoff\":15},\"zerolinecolor\":\"white\",\"zerolinewidth\":2}}}},                        {\"responsive\": true}                    ).then(function(){\n",
       "                            \n",
       "var gd = document.getElementById('30c58487-b62d-4b52-802f-c7e8d5696a8e');\n",
       "var x = new MutationObserver(function (mutations, observer) {{\n",
       "        var display = window.getComputedStyle(gd).display;\n",
       "        if (!display || display === 'none') {{\n",
       "            console.log([gd, 'removed!']);\n",
       "            Plotly.purge(gd);\n",
       "            observer.disconnect();\n",
       "        }}\n",
       "}});\n",
       "\n",
       "// Listen for the removal of the full notebook cells\n",
       "var notebookContainer = gd.closest('#notebook-container');\n",
       "if (notebookContainer) {{\n",
       "    x.observe(notebookContainer, {childList: true});\n",
       "}}\n",
       "\n",
       "// Listen for the clearing of the current output cell\n",
       "var outputEl = gd.closest('.output');\n",
       "if (outputEl) {{\n",
       "    x.observe(outputEl, {childList: true});\n",
       "}}\n",
       "\n",
       "                        })                };                });            </script>        </div>"
      ]
     },
     "metadata": {},
     "output_type": "display_data"
    }
   ],
   "source": [
    "choromap=go.Figure(data=data,layout=layout)\n",
    "iplot(choromap,validate=False)"
   ]
  },
  {
   "cell_type": "code",
   "execution_count": 18,
   "id": "2cad1c81",
   "metadata": {},
   "outputs": [],
   "source": [
    "df.to_csv(\"Birth Rate.csv\",index=False)"
   ]
  },
  {
   "cell_type": "code",
   "execution_count": 19,
   "id": "b980411b",
   "metadata": {},
   "outputs": [
    {
     "data": {
      "text/html": [
       "<div>\n",
       "<style scoped>\n",
       "    .dataframe tbody tr th:only-of-type {\n",
       "        vertical-align: middle;\n",
       "    }\n",
       "\n",
       "    .dataframe tbody tr th {\n",
       "        vertical-align: top;\n",
       "    }\n",
       "\n",
       "    .dataframe thead th {\n",
       "        text-align: right;\n",
       "    }\n",
       "</style>\n",
       "<table border=\"1\" class=\"dataframe\">\n",
       "  <thead>\n",
       "    <tr style=\"text-align: right;\">\n",
       "      <th></th>\n",
       "      <th>pop2023</th>\n",
       "      <th>country</th>\n",
       "      <th>birthRate</th>\n",
       "    </tr>\n",
       "  </thead>\n",
       "  <tbody>\n",
       "    <tr>\n",
       "      <th>0</th>\n",
       "      <td>36684202.0</td>\n",
       "      <td>Angola</td>\n",
       "      <td>43.7</td>\n",
       "    </tr>\n",
       "    <tr>\n",
       "      <th>1</th>\n",
       "      <td>27202843.0</td>\n",
       "      <td>Niger</td>\n",
       "      <td>43.6</td>\n",
       "    </tr>\n",
       "    <tr>\n",
       "      <th>2</th>\n",
       "      <td>23293698.0</td>\n",
       "      <td>Mali</td>\n",
       "      <td>43.2</td>\n",
       "    </tr>\n",
       "    <tr>\n",
       "      <th>3</th>\n",
       "      <td>18278568.0</td>\n",
       "      <td>Chad</td>\n",
       "      <td>43.0</td>\n",
       "    </tr>\n",
       "    <tr>\n",
       "      <th>4</th>\n",
       "      <td>48582334.0</td>\n",
       "      <td>Uganda</td>\n",
       "      <td>42.4</td>\n",
       "    </tr>\n",
       "  </tbody>\n",
       "</table>\n",
       "</div>"
      ],
      "text/plain": [
       "      pop2023 country  birthRate\n",
       "0  36684202.0  Angola       43.7\n",
       "1  27202843.0   Niger       43.6\n",
       "2  23293698.0    Mali       43.2\n",
       "3  18278568.0    Chad       43.0\n",
       "4  48582334.0  Uganda       42.4"
      ]
     },
     "execution_count": 19,
     "metadata": {},
     "output_type": "execute_result"
    }
   ],
   "source": [
    "df.head()"
   ]
  },
  {
   "cell_type": "code",
   "execution_count": 20,
   "id": "a590c706",
   "metadata": {},
   "outputs": [],
   "source": [
    "data=dict(\n",
    "    type=\"choropleth\",\n",
    "    colorscale=\"Viridis\",\n",
    "    reversescale=True,\n",
    "    locations=df[\"country\"],\n",
    "    locationmode=\"country names\",\n",
    "    z=df[\"pop2023\"],\n",
    "    text=df[\"country\"],\n",
    "    colorbar={\"title\":\"Dünya 2023 Nüfus Sayısı\"}\n",
    ")\n",
    "layout=dict(title=\"Dünya 2023 Nüfus Sayısı\",\n",
    "            geo=dict(showframe=False,projection={\"type\":\"mercator\"})\n",
    "            )\n"
   ]
  },
  {
   "cell_type": "code",
   "execution_count": 21,
   "id": "1fa67385",
   "metadata": {},
   "outputs": [
    {
     "data": {
      "application/vnd.plotly.v1+json": {
       "config": {
        "linkText": "Export to plot.ly",
        "plotlyServerURL": "https://plot.ly",
        "showLink": false
       },
       "data": [
        {
         "colorbar": {
          "title": {
           "text": "Dünya 2023 Nüfus Sayısı"
          }
         },
         "colorscale": [
          [
           0,
           "#440154"
          ],
          [
           0.1111111111111111,
           "#482878"
          ],
          [
           0.2222222222222222,
           "#3e4989"
          ],
          [
           0.3333333333333333,
           "#31688e"
          ],
          [
           0.4444444444444444,
           "#26828e"
          ],
          [
           0.5555555555555556,
           "#1f9e89"
          ],
          [
           0.6666666666666666,
           "#35b779"
          ],
          [
           0.7777777777777778,
           "#6ece58"
          ],
          [
           0.8888888888888888,
           "#b5de2b"
          ],
          [
           1,
           "#fde725"
          ]
         ],
         "locationmode": "country names",
         "locations": [
          "Angola",
          "Niger",
          "Mali",
          "Chad",
          "Uganda",
          "Zambia",
          "Burundi",
          "Malawi",
          "Somalia",
          "Liberia",
          "Mozambique",
          "Afghanistan",
          "Guinea-Bissau",
          "Burkina Faso",
          "South Sudan",
          "Guinea",
          "Ethiopia",
          "Sierra Leone",
          "Tanzania",
          "Nigeria",
          "Cameroon",
          "Benin",
          "Sudan",
          "Zimbabwe",
          "Central African Republic",
          "Republic of the Congo",
          "Senegal",
          "Timor-Leste",
          "DR Congo",
          "Togo",
          "Equatorial Guinea",
          "Sao Tome and Principe",
          "Madagascar",
          "Ghana",
          "Ivory Coast",
          "Iraq",
          "Mauritania",
          "Rwanda",
          "Eritrea",
          "Egypt",
          "Yemen",
          "Namibia",
          "Comoros",
          "Guatemala",
          "Solomon Islands",
          "Lesotho",
          "Marshall Islands",
          "Oman",
          "Tuvalu",
          "Jordan",
          "Vanuatu",
          "Philippines",
          "Papua New Guinea",
          "Djibouti",
          "Laos",
          "Nauru",
          "Belize",
          "Tajikistan",
          "Kenya",
          "Haiti",
          "Cambodia",
          "Honduras",
          "Tonga",
          "Botswana",
          "Pakistan",
          "Bolivia",
          "Kyrgyzstan",
          "Algeria",
          "Kiribati",
          "Syria",
          "Samoa",
          "South Africa",
          "Cape Verde",
          "Micronesia",
          "Guam",
          "Nepal",
          "American Samoa",
          "Dominican Republic",
          "Turkmenistan",
          "Malaysia",
          "Kuwait",
          "India",
          "Bangladesh",
          "Venezuela",
          "Mongolia",
          "Fiji",
          "Mexico",
          "Israel",
          "Myanmar",
          "Peru",
          "Ecuador",
          "Panama",
          "Morocco",
          "Kazakhstan",
          "Nicaragua",
          "Iran",
          "Tunisia",
          "Libya",
          "Bhutan",
          "Brunei",
          "Uzbekistan",
          "Paraguay",
          "Argentina",
          "Jamaica",
          "El Salvador",
          "Maldives",
          "Indonesia",
          "Colombia",
          "Saudi Arabia",
          "Suriname",
          "Antigua and Barbuda",
          "Turkey",
          "Guyana",
          "Azerbaijan",
          "Costa Rica",
          "Vietnam",
          "Grenada",
          "Northern Mariana Islands",
          "Turks and Caicos Islands",
          "Sri Lanka",
          "New Caledonia",
          "North Korea",
          "French Polynesia",
          "Faroe Islands",
          "Greenland",
          "Lebanon",
          "Brazil",
          "Ireland",
          "Cook Islands",
          "Iceland",
          "Chile",
          "Seychelles",
          "Albania",
          "New Zealand",
          "Bahrain",
          "Saint Lucia",
          "Uruguay",
          "Saint Vincent and the Grenadines",
          "Saint Kitts and Nevis",
          "Mauritius",
          "Armenia",
          "United States Virgin Islands",
          "United States",
          "Anguilla",
          "Trinidad and Tobago",
          "Aruba",
          "Norway",
          "China",
          "France",
          "Sweden",
          "Georgia",
          "United Kingdom",
          "Australia",
          "Cayman Islands",
          "Montenegro",
          "Luxembourg",
          "Barbados",
          "Belgium",
          "Bermuda",
          "Palau",
          "Moldova",
          "British Virgin Islands",
          "Thailand",
          "Netherlands",
          "Denmark",
          "Isle of Man",
          "Falkland Islands",
          "North Macedonia",
          "Russia",
          "Finland",
          "Cuba",
          "Switzerland",
          "Montserrat",
          "Liechtenstein",
          "Canada",
          "Ukraine",
          "Belarus",
          "Malta",
          "Estonia",
          "United Arab Emirates",
          "Lithuania",
          "Slovakia",
          "Latvia",
          "Austria",
          "Qatar",
          "Poland",
          "Czech Republic",
          "Slovenia",
          "Spain",
          "Hungary",
          "Serbia",
          "Hong Kong",
          "Croatia",
          "Romania",
          "Singapore",
          "Bosnia and Herzegovina",
          "Germany",
          "San Marino",
          "Italy",
          "Bulgaria",
          "Macau",
          "South Korea",
          "Greece",
          "Taiwan",
          "Portugal",
          "Japan",
          "Andorra",
          "Monaco"
         ],
         "reversescale": true,
         "text": [
          "Angola",
          "Niger",
          "Mali",
          "Chad",
          "Uganda",
          "Zambia",
          "Burundi",
          "Malawi",
          "Somalia",
          "Liberia",
          "Mozambique",
          "Afghanistan",
          "Guinea-Bissau",
          "Burkina Faso",
          "South Sudan",
          "Guinea",
          "Ethiopia",
          "Sierra Leone",
          "Tanzania",
          "Nigeria",
          "Cameroon",
          "Benin",
          "Sudan",
          "Zimbabwe",
          "Central African Republic",
          "Republic of the Congo",
          "Senegal",
          "Timor-Leste",
          "DR Congo",
          "Togo",
          "Equatorial Guinea",
          "Sao Tome and Principe",
          "Madagascar",
          "Ghana",
          "Ivory Coast",
          "Iraq",
          "Mauritania",
          "Rwanda",
          "Eritrea",
          "Egypt",
          "Yemen",
          "Namibia",
          "Comoros",
          "Guatemala",
          "Solomon Islands",
          "Lesotho",
          "Marshall Islands",
          "Oman",
          "Tuvalu",
          "Jordan",
          "Vanuatu",
          "Philippines",
          "Papua New Guinea",
          "Djibouti",
          "Laos",
          "Nauru",
          "Belize",
          "Tajikistan",
          "Kenya",
          "Haiti",
          "Cambodia",
          "Honduras",
          "Tonga",
          "Botswana",
          "Pakistan",
          "Bolivia",
          "Kyrgyzstan",
          "Algeria",
          "Kiribati",
          "Syria",
          "Samoa",
          "South Africa",
          "Cape Verde",
          "Micronesia",
          "Guam",
          "Nepal",
          "American Samoa",
          "Dominican Republic",
          "Turkmenistan",
          "Malaysia",
          "Kuwait",
          "India",
          "Bangladesh",
          "Venezuela",
          "Mongolia",
          "Fiji",
          "Mexico",
          "Israel",
          "Myanmar",
          "Peru",
          "Ecuador",
          "Panama",
          "Morocco",
          "Kazakhstan",
          "Nicaragua",
          "Iran",
          "Tunisia",
          "Libya",
          "Bhutan",
          "Brunei",
          "Uzbekistan",
          "Paraguay",
          "Argentina",
          "Jamaica",
          "El Salvador",
          "Maldives",
          "Indonesia",
          "Colombia",
          "Saudi Arabia",
          "Suriname",
          "Antigua and Barbuda",
          "Turkey",
          "Guyana",
          "Azerbaijan",
          "Costa Rica",
          "Vietnam",
          "Grenada",
          "Northern Mariana Islands",
          "Turks and Caicos Islands",
          "Sri Lanka",
          "New Caledonia",
          "North Korea",
          "French Polynesia",
          "Faroe Islands",
          "Greenland",
          "Lebanon",
          "Brazil",
          "Ireland",
          "Cook Islands",
          "Iceland",
          "Chile",
          "Seychelles",
          "Albania",
          "New Zealand",
          "Bahrain",
          "Saint Lucia",
          "Uruguay",
          "Saint Vincent and the Grenadines",
          "Saint Kitts and Nevis",
          "Mauritius",
          "Armenia",
          "United States Virgin Islands",
          "United States",
          "Anguilla",
          "Trinidad and Tobago",
          "Aruba",
          "Norway",
          "China",
          "France",
          "Sweden",
          "Georgia",
          "United Kingdom",
          "Australia",
          "Cayman Islands",
          "Montenegro",
          "Luxembourg",
          "Barbados",
          "Belgium",
          "Bermuda",
          "Palau",
          "Moldova",
          "British Virgin Islands",
          "Thailand",
          "Netherlands",
          "Denmark",
          "Isle of Man",
          "Falkland Islands",
          "North Macedonia",
          "Russia",
          "Finland",
          "Cuba",
          "Switzerland",
          "Montserrat",
          "Liechtenstein",
          "Canada",
          "Ukraine",
          "Belarus",
          "Malta",
          "Estonia",
          "United Arab Emirates",
          "Lithuania",
          "Slovakia",
          "Latvia",
          "Austria",
          "Qatar",
          "Poland",
          "Czech Republic",
          "Slovenia",
          "Spain",
          "Hungary",
          "Serbia",
          "Hong Kong",
          "Croatia",
          "Romania",
          "Singapore",
          "Bosnia and Herzegovina",
          "Germany",
          "San Marino",
          "Italy",
          "Bulgaria",
          "Macau",
          "South Korea",
          "Greece",
          "Taiwan",
          "Portugal",
          "Japan",
          "Andorra",
          "Monaco"
         ],
         "type": "choropleth",
         "z": [
          36684202,
          27202843,
          23293698,
          18278568,
          48582334,
          20569737,
          13238559,
          20931751,
          18143378,
          5418377,
          33897354,
          42239854,
          2150842,
          23251485,
          11088796,
          14190612,
          126527060,
          8791092,
          67438106,
          223804632,
          28647293,
          13712828,
          48109006,
          16665409,
          5742315,
          6106869,
          17763163,
          1360596,
          102262808,
          9053799,
          1714671,
          231856,
          30325732,
          34121985,
          28873034,
          45504560,
          4862989,
          14094683,
          3748901,
          112716598,
          34449825,
          2604172,
          852075,
          18092026,
          740424,
          2330318,
          41996,
          4644384,
          11396,
          11337052,
          334506,
          117337368,
          10329931,
          1136455,
          7633779,
          12780,
          410825,
          10143543,
          55100586,
          11724763,
          16944826,
          10593798,
          107773,
          2675352,
          240485658,
          12388571,
          6735347,
          45606480,
          133515,
          23227014,
          225681,
          60414495,
          598682,
          115224,
          172952,
          30896590,
          43914,
          11332972,
          6516100,
          34308525,
          4310108,
          1428627663,
          172954319,
          28838499,
          3447157,
          936375,
          128455567,
          9174520,
          54577997,
          34352719,
          18190484,
          4468087,
          37840044,
          19606633,
          7046310,
          89172767,
          12458223,
          6888388,
          787424,
          452524,
          35163944,
          6861524,
          45773884,
          2825544,
          6364943,
          521021,
          277534122,
          52085168,
          36947025,
          623236,
          94298,
          85816199,
          813834,
          10412651,
          5212173,
          98858950,
          126183,
          49796,
          46062,
          21893579,
          292991,
          26160821,
          308872,
          53270,
          56643,
          5353930,
          216422446,
          5056935,
          17044,
          375318,
          19629590,
          107660,
          2832439,
          5228100,
          1485509,
          180251,
          3423108,
          103698,
          47755,
          1300557,
          2777970,
          98750,
          339996563,
          15899,
          1534937,
          106277,
          5474360,
          1425671352,
          64756584,
          10612086,
          3728282,
          67736802,
          26439111,
          69310,
          626485,
          654768,
          281995,
          11686140,
          64069,
          18058,
          3435931,
          31538,
          71801279,
          17618299,
          5910913,
          84710,
          3791,
          2085679,
          144444359,
          5545475,
          11194449,
          8796669,
          4386,
          39584,
          38781291,
          36744634,
          9498238,
          535064,
          1322765,
          9516871,
          2718352,
          5795199,
          1830211,
          8958960,
          2716391,
          41026067,
          10495295,
          2119675,
          47519628,
          10156239,
          7149077,
          7491609,
          4008617,
          19892812,
          6014723,
          3210847,
          83294633,
          33642,
          58870762,
          6687717,
          704149,
          51784059,
          10341277,
          23923276,
          10247605,
          123294513,
          80088,
          36297
         ]
        }
       ],
       "layout": {
        "geo": {
         "projection": {
          "type": "mercator"
         },
         "showframe": false
        },
        "template": {
         "data": {
          "bar": [
           {
            "error_x": {
             "color": "#2a3f5f"
            },
            "error_y": {
             "color": "#2a3f5f"
            },
            "marker": {
             "line": {
              "color": "#E5ECF6",
              "width": 0.5
             },
             "pattern": {
              "fillmode": "overlay",
              "size": 10,
              "solidity": 0.2
             }
            },
            "type": "bar"
           }
          ],
          "barpolar": [
           {
            "marker": {
             "line": {
              "color": "#E5ECF6",
              "width": 0.5
             },
             "pattern": {
              "fillmode": "overlay",
              "size": 10,
              "solidity": 0.2
             }
            },
            "type": "barpolar"
           }
          ],
          "carpet": [
           {
            "aaxis": {
             "endlinecolor": "#2a3f5f",
             "gridcolor": "white",
             "linecolor": "white",
             "minorgridcolor": "white",
             "startlinecolor": "#2a3f5f"
            },
            "baxis": {
             "endlinecolor": "#2a3f5f",
             "gridcolor": "white",
             "linecolor": "white",
             "minorgridcolor": "white",
             "startlinecolor": "#2a3f5f"
            },
            "type": "carpet"
           }
          ],
          "choropleth": [
           {
            "colorbar": {
             "outlinewidth": 0,
             "ticks": ""
            },
            "type": "choropleth"
           }
          ],
          "contour": [
           {
            "colorbar": {
             "outlinewidth": 0,
             "ticks": ""
            },
            "colorscale": [
             [
              0,
              "#0d0887"
             ],
             [
              0.1111111111111111,
              "#46039f"
             ],
             [
              0.2222222222222222,
              "#7201a8"
             ],
             [
              0.3333333333333333,
              "#9c179e"
             ],
             [
              0.4444444444444444,
              "#bd3786"
             ],
             [
              0.5555555555555556,
              "#d8576b"
             ],
             [
              0.6666666666666666,
              "#ed7953"
             ],
             [
              0.7777777777777778,
              "#fb9f3a"
             ],
             [
              0.8888888888888888,
              "#fdca26"
             ],
             [
              1,
              "#f0f921"
             ]
            ],
            "type": "contour"
           }
          ],
          "contourcarpet": [
           {
            "colorbar": {
             "outlinewidth": 0,
             "ticks": ""
            },
            "type": "contourcarpet"
           }
          ],
          "heatmap": [
           {
            "colorbar": {
             "outlinewidth": 0,
             "ticks": ""
            },
            "colorscale": [
             [
              0,
              "#0d0887"
             ],
             [
              0.1111111111111111,
              "#46039f"
             ],
             [
              0.2222222222222222,
              "#7201a8"
             ],
             [
              0.3333333333333333,
              "#9c179e"
             ],
             [
              0.4444444444444444,
              "#bd3786"
             ],
             [
              0.5555555555555556,
              "#d8576b"
             ],
             [
              0.6666666666666666,
              "#ed7953"
             ],
             [
              0.7777777777777778,
              "#fb9f3a"
             ],
             [
              0.8888888888888888,
              "#fdca26"
             ],
             [
              1,
              "#f0f921"
             ]
            ],
            "type": "heatmap"
           }
          ],
          "heatmapgl": [
           {
            "colorbar": {
             "outlinewidth": 0,
             "ticks": ""
            },
            "colorscale": [
             [
              0,
              "#0d0887"
             ],
             [
              0.1111111111111111,
              "#46039f"
             ],
             [
              0.2222222222222222,
              "#7201a8"
             ],
             [
              0.3333333333333333,
              "#9c179e"
             ],
             [
              0.4444444444444444,
              "#bd3786"
             ],
             [
              0.5555555555555556,
              "#d8576b"
             ],
             [
              0.6666666666666666,
              "#ed7953"
             ],
             [
              0.7777777777777778,
              "#fb9f3a"
             ],
             [
              0.8888888888888888,
              "#fdca26"
             ],
             [
              1,
              "#f0f921"
             ]
            ],
            "type": "heatmapgl"
           }
          ],
          "histogram": [
           {
            "marker": {
             "pattern": {
              "fillmode": "overlay",
              "size": 10,
              "solidity": 0.2
             }
            },
            "type": "histogram"
           }
          ],
          "histogram2d": [
           {
            "colorbar": {
             "outlinewidth": 0,
             "ticks": ""
            },
            "colorscale": [
             [
              0,
              "#0d0887"
             ],
             [
              0.1111111111111111,
              "#46039f"
             ],
             [
              0.2222222222222222,
              "#7201a8"
             ],
             [
              0.3333333333333333,
              "#9c179e"
             ],
             [
              0.4444444444444444,
              "#bd3786"
             ],
             [
              0.5555555555555556,
              "#d8576b"
             ],
             [
              0.6666666666666666,
              "#ed7953"
             ],
             [
              0.7777777777777778,
              "#fb9f3a"
             ],
             [
              0.8888888888888888,
              "#fdca26"
             ],
             [
              1,
              "#f0f921"
             ]
            ],
            "type": "histogram2d"
           }
          ],
          "histogram2dcontour": [
           {
            "colorbar": {
             "outlinewidth": 0,
             "ticks": ""
            },
            "colorscale": [
             [
              0,
              "#0d0887"
             ],
             [
              0.1111111111111111,
              "#46039f"
             ],
             [
              0.2222222222222222,
              "#7201a8"
             ],
             [
              0.3333333333333333,
              "#9c179e"
             ],
             [
              0.4444444444444444,
              "#bd3786"
             ],
             [
              0.5555555555555556,
              "#d8576b"
             ],
             [
              0.6666666666666666,
              "#ed7953"
             ],
             [
              0.7777777777777778,
              "#fb9f3a"
             ],
             [
              0.8888888888888888,
              "#fdca26"
             ],
             [
              1,
              "#f0f921"
             ]
            ],
            "type": "histogram2dcontour"
           }
          ],
          "mesh3d": [
           {
            "colorbar": {
             "outlinewidth": 0,
             "ticks": ""
            },
            "type": "mesh3d"
           }
          ],
          "parcoords": [
           {
            "line": {
             "colorbar": {
              "outlinewidth": 0,
              "ticks": ""
             }
            },
            "type": "parcoords"
           }
          ],
          "pie": [
           {
            "automargin": true,
            "type": "pie"
           }
          ],
          "scatter": [
           {
            "marker": {
             "colorbar": {
              "outlinewidth": 0,
              "ticks": ""
             }
            },
            "type": "scatter"
           }
          ],
          "scatter3d": [
           {
            "line": {
             "colorbar": {
              "outlinewidth": 0,
              "ticks": ""
             }
            },
            "marker": {
             "colorbar": {
              "outlinewidth": 0,
              "ticks": ""
             }
            },
            "type": "scatter3d"
           }
          ],
          "scattercarpet": [
           {
            "marker": {
             "colorbar": {
              "outlinewidth": 0,
              "ticks": ""
             }
            },
            "type": "scattercarpet"
           }
          ],
          "scattergeo": [
           {
            "marker": {
             "colorbar": {
              "outlinewidth": 0,
              "ticks": ""
             }
            },
            "type": "scattergeo"
           }
          ],
          "scattergl": [
           {
            "marker": {
             "colorbar": {
              "outlinewidth": 0,
              "ticks": ""
             }
            },
            "type": "scattergl"
           }
          ],
          "scattermapbox": [
           {
            "marker": {
             "colorbar": {
              "outlinewidth": 0,
              "ticks": ""
             }
            },
            "type": "scattermapbox"
           }
          ],
          "scatterpolar": [
           {
            "marker": {
             "colorbar": {
              "outlinewidth": 0,
              "ticks": ""
             }
            },
            "type": "scatterpolar"
           }
          ],
          "scatterpolargl": [
           {
            "marker": {
             "colorbar": {
              "outlinewidth": 0,
              "ticks": ""
             }
            },
            "type": "scatterpolargl"
           }
          ],
          "scatterternary": [
           {
            "marker": {
             "colorbar": {
              "outlinewidth": 0,
              "ticks": ""
             }
            },
            "type": "scatterternary"
           }
          ],
          "surface": [
           {
            "colorbar": {
             "outlinewidth": 0,
             "ticks": ""
            },
            "colorscale": [
             [
              0,
              "#0d0887"
             ],
             [
              0.1111111111111111,
              "#46039f"
             ],
             [
              0.2222222222222222,
              "#7201a8"
             ],
             [
              0.3333333333333333,
              "#9c179e"
             ],
             [
              0.4444444444444444,
              "#bd3786"
             ],
             [
              0.5555555555555556,
              "#d8576b"
             ],
             [
              0.6666666666666666,
              "#ed7953"
             ],
             [
              0.7777777777777778,
              "#fb9f3a"
             ],
             [
              0.8888888888888888,
              "#fdca26"
             ],
             [
              1,
              "#f0f921"
             ]
            ],
            "type": "surface"
           }
          ],
          "table": [
           {
            "cells": {
             "fill": {
              "color": "#EBF0F8"
             },
             "line": {
              "color": "white"
             }
            },
            "header": {
             "fill": {
              "color": "#C8D4E3"
             },
             "line": {
              "color": "white"
             }
            },
            "type": "table"
           }
          ]
         },
         "layout": {
          "annotationdefaults": {
           "arrowcolor": "#2a3f5f",
           "arrowhead": 0,
           "arrowwidth": 1
          },
          "autotypenumbers": "strict",
          "coloraxis": {
           "colorbar": {
            "outlinewidth": 0,
            "ticks": ""
           }
          },
          "colorscale": {
           "diverging": [
            [
             0,
             "#8e0152"
            ],
            [
             0.1,
             "#c51b7d"
            ],
            [
             0.2,
             "#de77ae"
            ],
            [
             0.3,
             "#f1b6da"
            ],
            [
             0.4,
             "#fde0ef"
            ],
            [
             0.5,
             "#f7f7f7"
            ],
            [
             0.6,
             "#e6f5d0"
            ],
            [
             0.7,
             "#b8e186"
            ],
            [
             0.8,
             "#7fbc41"
            ],
            [
             0.9,
             "#4d9221"
            ],
            [
             1,
             "#276419"
            ]
           ],
           "sequential": [
            [
             0,
             "#0d0887"
            ],
            [
             0.1111111111111111,
             "#46039f"
            ],
            [
             0.2222222222222222,
             "#7201a8"
            ],
            [
             0.3333333333333333,
             "#9c179e"
            ],
            [
             0.4444444444444444,
             "#bd3786"
            ],
            [
             0.5555555555555556,
             "#d8576b"
            ],
            [
             0.6666666666666666,
             "#ed7953"
            ],
            [
             0.7777777777777778,
             "#fb9f3a"
            ],
            [
             0.8888888888888888,
             "#fdca26"
            ],
            [
             1,
             "#f0f921"
            ]
           ],
           "sequentialminus": [
            [
             0,
             "#0d0887"
            ],
            [
             0.1111111111111111,
             "#46039f"
            ],
            [
             0.2222222222222222,
             "#7201a8"
            ],
            [
             0.3333333333333333,
             "#9c179e"
            ],
            [
             0.4444444444444444,
             "#bd3786"
            ],
            [
             0.5555555555555556,
             "#d8576b"
            ],
            [
             0.6666666666666666,
             "#ed7953"
            ],
            [
             0.7777777777777778,
             "#fb9f3a"
            ],
            [
             0.8888888888888888,
             "#fdca26"
            ],
            [
             1,
             "#f0f921"
            ]
           ]
          },
          "colorway": [
           "#636efa",
           "#EF553B",
           "#00cc96",
           "#ab63fa",
           "#FFA15A",
           "#19d3f3",
           "#FF6692",
           "#B6E880",
           "#FF97FF",
           "#FECB52"
          ],
          "font": {
           "color": "#2a3f5f"
          },
          "geo": {
           "bgcolor": "white",
           "lakecolor": "white",
           "landcolor": "#E5ECF6",
           "showlakes": true,
           "showland": true,
           "subunitcolor": "white"
          },
          "hoverlabel": {
           "align": "left"
          },
          "hovermode": "closest",
          "mapbox": {
           "style": "light"
          },
          "paper_bgcolor": "white",
          "plot_bgcolor": "#E5ECF6",
          "polar": {
           "angularaxis": {
            "gridcolor": "white",
            "linecolor": "white",
            "ticks": ""
           },
           "bgcolor": "#E5ECF6",
           "radialaxis": {
            "gridcolor": "white",
            "linecolor": "white",
            "ticks": ""
           }
          },
          "scene": {
           "xaxis": {
            "backgroundcolor": "#E5ECF6",
            "gridcolor": "white",
            "gridwidth": 2,
            "linecolor": "white",
            "showbackground": true,
            "ticks": "",
            "zerolinecolor": "white"
           },
           "yaxis": {
            "backgroundcolor": "#E5ECF6",
            "gridcolor": "white",
            "gridwidth": 2,
            "linecolor": "white",
            "showbackground": true,
            "ticks": "",
            "zerolinecolor": "white"
           },
           "zaxis": {
            "backgroundcolor": "#E5ECF6",
            "gridcolor": "white",
            "gridwidth": 2,
            "linecolor": "white",
            "showbackground": true,
            "ticks": "",
            "zerolinecolor": "white"
           }
          },
          "shapedefaults": {
           "line": {
            "color": "#2a3f5f"
           }
          },
          "ternary": {
           "aaxis": {
            "gridcolor": "white",
            "linecolor": "white",
            "ticks": ""
           },
           "baxis": {
            "gridcolor": "white",
            "linecolor": "white",
            "ticks": ""
           },
           "bgcolor": "#E5ECF6",
           "caxis": {
            "gridcolor": "white",
            "linecolor": "white",
            "ticks": ""
           }
          },
          "title": {
           "x": 0.05
          },
          "xaxis": {
           "automargin": true,
           "gridcolor": "white",
           "linecolor": "white",
           "ticks": "",
           "title": {
            "standoff": 15
           },
           "zerolinecolor": "white",
           "zerolinewidth": 2
          },
          "yaxis": {
           "automargin": true,
           "gridcolor": "white",
           "linecolor": "white",
           "ticks": "",
           "title": {
            "standoff": 15
           },
           "zerolinecolor": "white",
           "zerolinewidth": 2
          }
         }
        },
        "title": {
         "text": "Dünya 2023 Nüfus Sayısı"
        }
       }
      },
      "text/html": [
       "<div>                            <div id=\"9ac97e87-6535-4adf-a681-6474f520280f\" class=\"plotly-graph-div\" style=\"height:525px; width:100%;\"></div>            <script type=\"text/javascript\">                require([\"plotly\"], function(Plotly) {                    window.PLOTLYENV=window.PLOTLYENV || {};                                    if (document.getElementById(\"9ac97e87-6535-4adf-a681-6474f520280f\")) {                    Plotly.newPlot(                        \"9ac97e87-6535-4adf-a681-6474f520280f\",                        [{\"colorbar\":{\"title\":{\"text\":\"D\\u00fcnya 2023 N\\u00fcfus Say\\u0131s\\u0131\"}},\"colorscale\":[[0.0,\"#440154\"],[0.1111111111111111,\"#482878\"],[0.2222222222222222,\"#3e4989\"],[0.3333333333333333,\"#31688e\"],[0.4444444444444444,\"#26828e\"],[0.5555555555555556,\"#1f9e89\"],[0.6666666666666666,\"#35b779\"],[0.7777777777777778,\"#6ece58\"],[0.8888888888888888,\"#b5de2b\"],[1.0,\"#fde725\"]],\"locationmode\":\"country names\",\"locations\":[\"Angola\",\"Niger\",\"Mali\",\"Chad\",\"Uganda\",\"Zambia\",\"Burundi\",\"Malawi\",\"Somalia\",\"Liberia\",\"Mozambique\",\"Afghanistan\",\"Guinea-Bissau\",\"Burkina Faso\",\"South Sudan\",\"Guinea\",\"Ethiopia\",\"Sierra Leone\",\"Tanzania\",\"Nigeria\",\"Cameroon\",\"Benin\",\"Sudan\",\"Zimbabwe\",\"Central African Republic\",\"Republic of the Congo\",\"Senegal\",\"Timor-Leste\",\"DR Congo\",\"Togo\",\"Equatorial Guinea\",\"Sao Tome and Principe\",\"Madagascar\",\"Ghana\",\"Ivory Coast\",\"Iraq\",\"Mauritania\",\"Rwanda\",\"Eritrea\",\"Egypt\",\"Yemen\",\"Namibia\",\"Comoros\",\"Guatemala\",\"Solomon Islands\",\"Lesotho\",\"Marshall Islands\",\"Oman\",\"Tuvalu\",\"Jordan\",\"Vanuatu\",\"Philippines\",\"Papua New Guinea\",\"Djibouti\",\"Laos\",\"Nauru\",\"Belize\",\"Tajikistan\",\"Kenya\",\"Haiti\",\"Cambodia\",\"Honduras\",\"Tonga\",\"Botswana\",\"Pakistan\",\"Bolivia\",\"Kyrgyzstan\",\"Algeria\",\"Kiribati\",\"Syria\",\"Samoa\",\"South Africa\",\"Cape Verde\",\"Micronesia\",\"Guam\",\"Nepal\",\"American Samoa\",\"Dominican Republic\",\"Turkmenistan\",\"Malaysia\",\"Kuwait\",\"India\",\"Bangladesh\",\"Venezuela\",\"Mongolia\",\"Fiji\",\"Mexico\",\"Israel\",\"Myanmar\",\"Peru\",\"Ecuador\",\"Panama\",\"Morocco\",\"Kazakhstan\",\"Nicaragua\",\"Iran\",\"Tunisia\",\"Libya\",\"Bhutan\",\"Brunei\",\"Uzbekistan\",\"Paraguay\",\"Argentina\",\"Jamaica\",\"El Salvador\",\"Maldives\",\"Indonesia\",\"Colombia\",\"Saudi Arabia\",\"Suriname\",\"Antigua and Barbuda\",\"Turkey\",\"Guyana\",\"Azerbaijan\",\"Costa Rica\",\"Vietnam\",\"Grenada\",\"Northern Mariana Islands\",\"Turks and Caicos Islands\",\"Sri Lanka\",\"New Caledonia\",\"North Korea\",\"French Polynesia\",\"Faroe Islands\",\"Greenland\",\"Lebanon\",\"Brazil\",\"Ireland\",\"Cook Islands\",\"Iceland\",\"Chile\",\"Seychelles\",\"Albania\",\"New Zealand\",\"Bahrain\",\"Saint Lucia\",\"Uruguay\",\"Saint Vincent and the Grenadines\",\"Saint Kitts and Nevis\",\"Mauritius\",\"Armenia\",\"United States Virgin Islands\",\"United States\",\"Anguilla\",\"Trinidad and Tobago\",\"Aruba\",\"Norway\",\"China\",\"France\",\"Sweden\",\"Georgia\",\"United Kingdom\",\"Australia\",\"Cayman Islands\",\"Montenegro\",\"Luxembourg\",\"Barbados\",\"Belgium\",\"Bermuda\",\"Palau\",\"Moldova\",\"British Virgin Islands\",\"Thailand\",\"Netherlands\",\"Denmark\",\"Isle of Man\",\"Falkland Islands\",\"North Macedonia\",\"Russia\",\"Finland\",\"Cuba\",\"Switzerland\",\"Montserrat\",\"Liechtenstein\",\"Canada\",\"Ukraine\",\"Belarus\",\"Malta\",\"Estonia\",\"United Arab Emirates\",\"Lithuania\",\"Slovakia\",\"Latvia\",\"Austria\",\"Qatar\",\"Poland\",\"Czech Republic\",\"Slovenia\",\"Spain\",\"Hungary\",\"Serbia\",\"Hong Kong\",\"Croatia\",\"Romania\",\"Singapore\",\"Bosnia and Herzegovina\",\"Germany\",\"San Marino\",\"Italy\",\"Bulgaria\",\"Macau\",\"South Korea\",\"Greece\",\"Taiwan\",\"Portugal\",\"Japan\",\"Andorra\",\"Monaco\"],\"reversescale\":true,\"text\":[\"Angola\",\"Niger\",\"Mali\",\"Chad\",\"Uganda\",\"Zambia\",\"Burundi\",\"Malawi\",\"Somalia\",\"Liberia\",\"Mozambique\",\"Afghanistan\",\"Guinea-Bissau\",\"Burkina Faso\",\"South Sudan\",\"Guinea\",\"Ethiopia\",\"Sierra Leone\",\"Tanzania\",\"Nigeria\",\"Cameroon\",\"Benin\",\"Sudan\",\"Zimbabwe\",\"Central African Republic\",\"Republic of the Congo\",\"Senegal\",\"Timor-Leste\",\"DR Congo\",\"Togo\",\"Equatorial Guinea\",\"Sao Tome and Principe\",\"Madagascar\",\"Ghana\",\"Ivory Coast\",\"Iraq\",\"Mauritania\",\"Rwanda\",\"Eritrea\",\"Egypt\",\"Yemen\",\"Namibia\",\"Comoros\",\"Guatemala\",\"Solomon Islands\",\"Lesotho\",\"Marshall Islands\",\"Oman\",\"Tuvalu\",\"Jordan\",\"Vanuatu\",\"Philippines\",\"Papua New Guinea\",\"Djibouti\",\"Laos\",\"Nauru\",\"Belize\",\"Tajikistan\",\"Kenya\",\"Haiti\",\"Cambodia\",\"Honduras\",\"Tonga\",\"Botswana\",\"Pakistan\",\"Bolivia\",\"Kyrgyzstan\",\"Algeria\",\"Kiribati\",\"Syria\",\"Samoa\",\"South Africa\",\"Cape Verde\",\"Micronesia\",\"Guam\",\"Nepal\",\"American Samoa\",\"Dominican Republic\",\"Turkmenistan\",\"Malaysia\",\"Kuwait\",\"India\",\"Bangladesh\",\"Venezuela\",\"Mongolia\",\"Fiji\",\"Mexico\",\"Israel\",\"Myanmar\",\"Peru\",\"Ecuador\",\"Panama\",\"Morocco\",\"Kazakhstan\",\"Nicaragua\",\"Iran\",\"Tunisia\",\"Libya\",\"Bhutan\",\"Brunei\",\"Uzbekistan\",\"Paraguay\",\"Argentina\",\"Jamaica\",\"El Salvador\",\"Maldives\",\"Indonesia\",\"Colombia\",\"Saudi Arabia\",\"Suriname\",\"Antigua and Barbuda\",\"Turkey\",\"Guyana\",\"Azerbaijan\",\"Costa Rica\",\"Vietnam\",\"Grenada\",\"Northern Mariana Islands\",\"Turks and Caicos Islands\",\"Sri Lanka\",\"New Caledonia\",\"North Korea\",\"French Polynesia\",\"Faroe Islands\",\"Greenland\",\"Lebanon\",\"Brazil\",\"Ireland\",\"Cook Islands\",\"Iceland\",\"Chile\",\"Seychelles\",\"Albania\",\"New Zealand\",\"Bahrain\",\"Saint Lucia\",\"Uruguay\",\"Saint Vincent and the Grenadines\",\"Saint Kitts and Nevis\",\"Mauritius\",\"Armenia\",\"United States Virgin Islands\",\"United States\",\"Anguilla\",\"Trinidad and Tobago\",\"Aruba\",\"Norway\",\"China\",\"France\",\"Sweden\",\"Georgia\",\"United Kingdom\",\"Australia\",\"Cayman Islands\",\"Montenegro\",\"Luxembourg\",\"Barbados\",\"Belgium\",\"Bermuda\",\"Palau\",\"Moldova\",\"British Virgin Islands\",\"Thailand\",\"Netherlands\",\"Denmark\",\"Isle of Man\",\"Falkland Islands\",\"North Macedonia\",\"Russia\",\"Finland\",\"Cuba\",\"Switzerland\",\"Montserrat\",\"Liechtenstein\",\"Canada\",\"Ukraine\",\"Belarus\",\"Malta\",\"Estonia\",\"United Arab Emirates\",\"Lithuania\",\"Slovakia\",\"Latvia\",\"Austria\",\"Qatar\",\"Poland\",\"Czech Republic\",\"Slovenia\",\"Spain\",\"Hungary\",\"Serbia\",\"Hong Kong\",\"Croatia\",\"Romania\",\"Singapore\",\"Bosnia and Herzegovina\",\"Germany\",\"San Marino\",\"Italy\",\"Bulgaria\",\"Macau\",\"South Korea\",\"Greece\",\"Taiwan\",\"Portugal\",\"Japan\",\"Andorra\",\"Monaco\"],\"z\":[36684202.0,27202843.0,23293698.0,18278568.0,48582334.0,20569737.0,13238559.0,20931751.0,18143378.0,5418377.0,33897354.0,42239854.0,2150842.0,23251485.0,11088796.0,14190612.0,126527060.0,8791092.0,67438106.0,223804632.0,28647293.0,13712828.0,48109006.0,16665409.0,5742315.0,6106869.0,17763163.0,1360596.0,102262808.0,9053799.0,1714671.0,231856.0,30325732.0,34121985.0,28873034.0,45504560.0,4862989.0,14094683.0,3748901.0,112716598.0,34449825.0,2604172.0,852075.0,18092026.0,740424.0,2330318.0,41996.0,4644384.0,11396.0,11337052.0,334506.0,117337368.0,10329931.0,1136455.0,7633779.0,12780.0,410825.0,10143543.0,55100586.0,11724763.0,16944826.0,10593798.0,107773.0,2675352.0,240485658.0,12388571.0,6735347.0,45606480.0,133515.0,23227014.0,225681.0,60414495.0,598682.0,115224.0,172952.0,30896590.0,43914.0,11332972.0,6516100.0,34308525.0,4310108.0,1428627663.0,172954319.0,28838499.0,3447157.0,936375.0,128455567.0,9174520.0,54577997.0,34352719.0,18190484.0,4468087.0,37840044.0,19606633.0,7046310.0,89172767.0,12458223.0,6888388.0,787424.0,452524.0,35163944.0,6861524.0,45773884.0,2825544.0,6364943.0,521021.0,277534122.0,52085168.0,36947025.0,623236.0,94298.0,85816199.0,813834.0,10412651.0,5212173.0,98858950.0,126183.0,49796.0,46062.0,21893579.0,292991.0,26160821.0,308872.0,53270.0,56643.0,5353930.0,216422446.0,5056935.0,17044.0,375318.0,19629590.0,107660.0,2832439.0,5228100.0,1485509.0,180251.0,3423108.0,103698.0,47755.0,1300557.0,2777970.0,98750.0,339996563.0,15899.0,1534937.0,106277.0,5474360.0,1425671352.0,64756584.0,10612086.0,3728282.0,67736802.0,26439111.0,69310.0,626485.0,654768.0,281995.0,11686140.0,64069.0,18058.0,3435931.0,31538.0,71801279.0,17618299.0,5910913.0,84710.0,3791.0,2085679.0,144444359.0,5545475.0,11194449.0,8796669.0,4386.0,39584.0,38781291.0,36744634.0,9498238.0,535064.0,1322765.0,9516871.0,2718352.0,5795199.0,1830211.0,8958960.0,2716391.0,41026067.0,10495295.0,2119675.0,47519628.0,10156239.0,7149077.0,7491609.0,4008617.0,19892812.0,6014723.0,3210847.0,83294633.0,33642.0,58870762.0,6687717.0,704149.0,51784059.0,10341277.0,23923276.0,10247605.0,123294513.0,80088.0,36297.0],\"type\":\"choropleth\"}],                        {\"geo\":{\"projection\":{\"type\":\"mercator\"},\"showframe\":false},\"title\":{\"text\":\"D\\u00fcnya 2023 N\\u00fcfus Say\\u0131s\\u0131\"},\"template\":{\"data\":{\"bar\":[{\"error_x\":{\"color\":\"#2a3f5f\"},\"error_y\":{\"color\":\"#2a3f5f\"},\"marker\":{\"line\":{\"color\":\"#E5ECF6\",\"width\":0.5},\"pattern\":{\"fillmode\":\"overlay\",\"size\":10,\"solidity\":0.2}},\"type\":\"bar\"}],\"barpolar\":[{\"marker\":{\"line\":{\"color\":\"#E5ECF6\",\"width\":0.5},\"pattern\":{\"fillmode\":\"overlay\",\"size\":10,\"solidity\":0.2}},\"type\":\"barpolar\"}],\"carpet\":[{\"aaxis\":{\"endlinecolor\":\"#2a3f5f\",\"gridcolor\":\"white\",\"linecolor\":\"white\",\"minorgridcolor\":\"white\",\"startlinecolor\":\"#2a3f5f\"},\"baxis\":{\"endlinecolor\":\"#2a3f5f\",\"gridcolor\":\"white\",\"linecolor\":\"white\",\"minorgridcolor\":\"white\",\"startlinecolor\":\"#2a3f5f\"},\"type\":\"carpet\"}],\"choropleth\":[{\"colorbar\":{\"outlinewidth\":0,\"ticks\":\"\"},\"type\":\"choropleth\"}],\"contour\":[{\"colorbar\":{\"outlinewidth\":0,\"ticks\":\"\"},\"colorscale\":[[0.0,\"#0d0887\"],[0.1111111111111111,\"#46039f\"],[0.2222222222222222,\"#7201a8\"],[0.3333333333333333,\"#9c179e\"],[0.4444444444444444,\"#bd3786\"],[0.5555555555555556,\"#d8576b\"],[0.6666666666666666,\"#ed7953\"],[0.7777777777777778,\"#fb9f3a\"],[0.8888888888888888,\"#fdca26\"],[1.0,\"#f0f921\"]],\"type\":\"contour\"}],\"contourcarpet\":[{\"colorbar\":{\"outlinewidth\":0,\"ticks\":\"\"},\"type\":\"contourcarpet\"}],\"heatmap\":[{\"colorbar\":{\"outlinewidth\":0,\"ticks\":\"\"},\"colorscale\":[[0.0,\"#0d0887\"],[0.1111111111111111,\"#46039f\"],[0.2222222222222222,\"#7201a8\"],[0.3333333333333333,\"#9c179e\"],[0.4444444444444444,\"#bd3786\"],[0.5555555555555556,\"#d8576b\"],[0.6666666666666666,\"#ed7953\"],[0.7777777777777778,\"#fb9f3a\"],[0.8888888888888888,\"#fdca26\"],[1.0,\"#f0f921\"]],\"type\":\"heatmap\"}],\"heatmapgl\":[{\"colorbar\":{\"outlinewidth\":0,\"ticks\":\"\"},\"colorscale\":[[0.0,\"#0d0887\"],[0.1111111111111111,\"#46039f\"],[0.2222222222222222,\"#7201a8\"],[0.3333333333333333,\"#9c179e\"],[0.4444444444444444,\"#bd3786\"],[0.5555555555555556,\"#d8576b\"],[0.6666666666666666,\"#ed7953\"],[0.7777777777777778,\"#fb9f3a\"],[0.8888888888888888,\"#fdca26\"],[1.0,\"#f0f921\"]],\"type\":\"heatmapgl\"}],\"histogram\":[{\"marker\":{\"pattern\":{\"fillmode\":\"overlay\",\"size\":10,\"solidity\":0.2}},\"type\":\"histogram\"}],\"histogram2d\":[{\"colorbar\":{\"outlinewidth\":0,\"ticks\":\"\"},\"colorscale\":[[0.0,\"#0d0887\"],[0.1111111111111111,\"#46039f\"],[0.2222222222222222,\"#7201a8\"],[0.3333333333333333,\"#9c179e\"],[0.4444444444444444,\"#bd3786\"],[0.5555555555555556,\"#d8576b\"],[0.6666666666666666,\"#ed7953\"],[0.7777777777777778,\"#fb9f3a\"],[0.8888888888888888,\"#fdca26\"],[1.0,\"#f0f921\"]],\"type\":\"histogram2d\"}],\"histogram2dcontour\":[{\"colorbar\":{\"outlinewidth\":0,\"ticks\":\"\"},\"colorscale\":[[0.0,\"#0d0887\"],[0.1111111111111111,\"#46039f\"],[0.2222222222222222,\"#7201a8\"],[0.3333333333333333,\"#9c179e\"],[0.4444444444444444,\"#bd3786\"],[0.5555555555555556,\"#d8576b\"],[0.6666666666666666,\"#ed7953\"],[0.7777777777777778,\"#fb9f3a\"],[0.8888888888888888,\"#fdca26\"],[1.0,\"#f0f921\"]],\"type\":\"histogram2dcontour\"}],\"mesh3d\":[{\"colorbar\":{\"outlinewidth\":0,\"ticks\":\"\"},\"type\":\"mesh3d\"}],\"parcoords\":[{\"line\":{\"colorbar\":{\"outlinewidth\":0,\"ticks\":\"\"}},\"type\":\"parcoords\"}],\"pie\":[{\"automargin\":true,\"type\":\"pie\"}],\"scatter\":[{\"marker\":{\"colorbar\":{\"outlinewidth\":0,\"ticks\":\"\"}},\"type\":\"scatter\"}],\"scatter3d\":[{\"line\":{\"colorbar\":{\"outlinewidth\":0,\"ticks\":\"\"}},\"marker\":{\"colorbar\":{\"outlinewidth\":0,\"ticks\":\"\"}},\"type\":\"scatter3d\"}],\"scattercarpet\":[{\"marker\":{\"colorbar\":{\"outlinewidth\":0,\"ticks\":\"\"}},\"type\":\"scattercarpet\"}],\"scattergeo\":[{\"marker\":{\"colorbar\":{\"outlinewidth\":0,\"ticks\":\"\"}},\"type\":\"scattergeo\"}],\"scattergl\":[{\"marker\":{\"colorbar\":{\"outlinewidth\":0,\"ticks\":\"\"}},\"type\":\"scattergl\"}],\"scattermapbox\":[{\"marker\":{\"colorbar\":{\"outlinewidth\":0,\"ticks\":\"\"}},\"type\":\"scattermapbox\"}],\"scatterpolar\":[{\"marker\":{\"colorbar\":{\"outlinewidth\":0,\"ticks\":\"\"}},\"type\":\"scatterpolar\"}],\"scatterpolargl\":[{\"marker\":{\"colorbar\":{\"outlinewidth\":0,\"ticks\":\"\"}},\"type\":\"scatterpolargl\"}],\"scatterternary\":[{\"marker\":{\"colorbar\":{\"outlinewidth\":0,\"ticks\":\"\"}},\"type\":\"scatterternary\"}],\"surface\":[{\"colorbar\":{\"outlinewidth\":0,\"ticks\":\"\"},\"colorscale\":[[0.0,\"#0d0887\"],[0.1111111111111111,\"#46039f\"],[0.2222222222222222,\"#7201a8\"],[0.3333333333333333,\"#9c179e\"],[0.4444444444444444,\"#bd3786\"],[0.5555555555555556,\"#d8576b\"],[0.6666666666666666,\"#ed7953\"],[0.7777777777777778,\"#fb9f3a\"],[0.8888888888888888,\"#fdca26\"],[1.0,\"#f0f921\"]],\"type\":\"surface\"}],\"table\":[{\"cells\":{\"fill\":{\"color\":\"#EBF0F8\"},\"line\":{\"color\":\"white\"}},\"header\":{\"fill\":{\"color\":\"#C8D4E3\"},\"line\":{\"color\":\"white\"}},\"type\":\"table\"}]},\"layout\":{\"annotationdefaults\":{\"arrowcolor\":\"#2a3f5f\",\"arrowhead\":0,\"arrowwidth\":1},\"autotypenumbers\":\"strict\",\"coloraxis\":{\"colorbar\":{\"outlinewidth\":0,\"ticks\":\"\"}},\"colorscale\":{\"diverging\":[[0,\"#8e0152\"],[0.1,\"#c51b7d\"],[0.2,\"#de77ae\"],[0.3,\"#f1b6da\"],[0.4,\"#fde0ef\"],[0.5,\"#f7f7f7\"],[0.6,\"#e6f5d0\"],[0.7,\"#b8e186\"],[0.8,\"#7fbc41\"],[0.9,\"#4d9221\"],[1,\"#276419\"]],\"sequential\":[[0.0,\"#0d0887\"],[0.1111111111111111,\"#46039f\"],[0.2222222222222222,\"#7201a8\"],[0.3333333333333333,\"#9c179e\"],[0.4444444444444444,\"#bd3786\"],[0.5555555555555556,\"#d8576b\"],[0.6666666666666666,\"#ed7953\"],[0.7777777777777778,\"#fb9f3a\"],[0.8888888888888888,\"#fdca26\"],[1.0,\"#f0f921\"]],\"sequentialminus\":[[0.0,\"#0d0887\"],[0.1111111111111111,\"#46039f\"],[0.2222222222222222,\"#7201a8\"],[0.3333333333333333,\"#9c179e\"],[0.4444444444444444,\"#bd3786\"],[0.5555555555555556,\"#d8576b\"],[0.6666666666666666,\"#ed7953\"],[0.7777777777777778,\"#fb9f3a\"],[0.8888888888888888,\"#fdca26\"],[1.0,\"#f0f921\"]]},\"colorway\":[\"#636efa\",\"#EF553B\",\"#00cc96\",\"#ab63fa\",\"#FFA15A\",\"#19d3f3\",\"#FF6692\",\"#B6E880\",\"#FF97FF\",\"#FECB52\"],\"font\":{\"color\":\"#2a3f5f\"},\"geo\":{\"bgcolor\":\"white\",\"lakecolor\":\"white\",\"landcolor\":\"#E5ECF6\",\"showlakes\":true,\"showland\":true,\"subunitcolor\":\"white\"},\"hoverlabel\":{\"align\":\"left\"},\"hovermode\":\"closest\",\"mapbox\":{\"style\":\"light\"},\"paper_bgcolor\":\"white\",\"plot_bgcolor\":\"#E5ECF6\",\"polar\":{\"angularaxis\":{\"gridcolor\":\"white\",\"linecolor\":\"white\",\"ticks\":\"\"},\"bgcolor\":\"#E5ECF6\",\"radialaxis\":{\"gridcolor\":\"white\",\"linecolor\":\"white\",\"ticks\":\"\"}},\"scene\":{\"xaxis\":{\"backgroundcolor\":\"#E5ECF6\",\"gridcolor\":\"white\",\"gridwidth\":2,\"linecolor\":\"white\",\"showbackground\":true,\"ticks\":\"\",\"zerolinecolor\":\"white\"},\"yaxis\":{\"backgroundcolor\":\"#E5ECF6\",\"gridcolor\":\"white\",\"gridwidth\":2,\"linecolor\":\"white\",\"showbackground\":true,\"ticks\":\"\",\"zerolinecolor\":\"white\"},\"zaxis\":{\"backgroundcolor\":\"#E5ECF6\",\"gridcolor\":\"white\",\"gridwidth\":2,\"linecolor\":\"white\",\"showbackground\":true,\"ticks\":\"\",\"zerolinecolor\":\"white\"}},\"shapedefaults\":{\"line\":{\"color\":\"#2a3f5f\"}},\"ternary\":{\"aaxis\":{\"gridcolor\":\"white\",\"linecolor\":\"white\",\"ticks\":\"\"},\"baxis\":{\"gridcolor\":\"white\",\"linecolor\":\"white\",\"ticks\":\"\"},\"bgcolor\":\"#E5ECF6\",\"caxis\":{\"gridcolor\":\"white\",\"linecolor\":\"white\",\"ticks\":\"\"}},\"title\":{\"x\":0.05},\"xaxis\":{\"automargin\":true,\"gridcolor\":\"white\",\"linecolor\":\"white\",\"ticks\":\"\",\"title\":{\"standoff\":15},\"zerolinecolor\":\"white\",\"zerolinewidth\":2},\"yaxis\":{\"automargin\":true,\"gridcolor\":\"white\",\"linecolor\":\"white\",\"ticks\":\"\",\"title\":{\"standoff\":15},\"zerolinecolor\":\"white\",\"zerolinewidth\":2}}}},                        {\"responsive\": true}                    ).then(function(){\n",
       "                            \n",
       "var gd = document.getElementById('9ac97e87-6535-4adf-a681-6474f520280f');\n",
       "var x = new MutationObserver(function (mutations, observer) {{\n",
       "        var display = window.getComputedStyle(gd).display;\n",
       "        if (!display || display === 'none') {{\n",
       "            console.log([gd, 'removed!']);\n",
       "            Plotly.purge(gd);\n",
       "            observer.disconnect();\n",
       "        }}\n",
       "}});\n",
       "\n",
       "// Listen for the removal of the full notebook cells\n",
       "var notebookContainer = gd.closest('#notebook-container');\n",
       "if (notebookContainer) {{\n",
       "    x.observe(notebookContainer, {childList: true});\n",
       "}}\n",
       "\n",
       "// Listen for the clearing of the current output cell\n",
       "var outputEl = gd.closest('.output');\n",
       "if (outputEl) {{\n",
       "    x.observe(outputEl, {childList: true});\n",
       "}}\n",
       "\n",
       "                        })                };                });            </script>        </div>"
      ]
     },
     "metadata": {},
     "output_type": "display_data"
    }
   ],
   "source": [
    "choromap=go.Figure(data=data,layout=layout)\n",
    "iplot(choromap,validate=False)"
   ]
  },
  {
   "cell_type": "code",
   "execution_count": 22,
   "id": "37523259",
   "metadata": {},
   "outputs": [],
   "source": [
    "df.to_csv(\"2023 Population.csv\",index=False)"
   ]
  },
  {
   "cell_type": "code",
   "execution_count": null,
   "id": "1e117a39",
   "metadata": {},
   "outputs": [],
   "source": []
  }
 ],
 "metadata": {
  "kernelspec": {
   "display_name": "Python 3 (ipykernel)",
   "language": "python",
   "name": "python3"
  },
  "language_info": {
   "codemirror_mode": {
    "name": "ipython",
    "version": 3
   },
   "file_extension": ".py",
   "mimetype": "text/x-python",
   "name": "python",
   "nbconvert_exporter": "python",
   "pygments_lexer": "ipython3",
   "version": "3.9.12"
  }
 },
 "nbformat": 4,
 "nbformat_minor": 5
}
